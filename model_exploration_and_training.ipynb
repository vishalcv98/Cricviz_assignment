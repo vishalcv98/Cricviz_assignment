{
 "cells": [
  {
   "cell_type": "markdown",
   "id": "2ccbb076-1d89-4fbb-bd08-0f795341d2ba",
   "metadata": {},
   "source": [
    "# This file documents the exploration of various feature engineering, modeling, and sampling techniques. It primarily focuses on experimenting with different methods to maximize accuracy and other evaluation metrics, while ensuring the predictions remain meaningful and consistent. The objective was to apply a wide range of strategies to enhance model performance and improve its overall predictive capabilities."
   ]
  },
  {
   "cell_type": "code",
   "execution_count": 2,
   "id": "71adeffb-591d-42a4-acdd-fcbb1fee1faf",
   "metadata": {},
   "outputs": [],
   "source": [
    "import pandas as pd\n",
    "import numpy as np\n",
    "import matplotlib.pyplot as plt\n",
    "import seaborn as sns"
   ]
  },
  {
   "cell_type": "code",
   "execution_count": 205,
   "id": "323ea27f-6817-4125-8870-a807ebbd2c7d",
   "metadata": {},
   "outputs": [],
   "source": [
    "df = pd.read_csv('data.csv')"
   ]
  },
  {
   "cell_type": "code",
   "execution_count": 206,
   "id": "96c65be8-5899-462c-95bb-7a9dc11e1a4a",
   "metadata": {},
   "outputs": [
    {
     "data": {
      "text/plain": [
       "Index(['release_speed_kph', 'swing_angle', 'deviation', 'release_position_y',\n",
       "       'release_position_z', 'bounce_position_y', 'bounce_position_x',\n",
       "       'crease_position_y', 'crease_position_z', 'stumps_position_y',\n",
       "       'stumps_position_z', 'bounce_velocity_ratio_z', 'release_angle',\n",
       "       'drop_angle', 'bounce_angle', 'batting_hand', 'bowling_hand',\n",
       "       'bowling_type', 'runs', 'wicket'],\n",
       "      dtype='object')"
      ]
     },
     "execution_count": 206,
     "metadata": {},
     "output_type": "execute_result"
    }
   ],
   "source": [
    "df.columns"
   ]
  },
  {
   "cell_type": "markdown",
   "id": "d82801eb-01f8-44ad-bee3-338f59595c31",
   "metadata": {},
   "source": [
    "# Trying to fit an xgb model without any feature engineering"
   ]
  },
  {
   "cell_type": "code",
   "execution_count": 207,
   "id": "df9cebf3-33b6-417d-8d36-d0319bfd8e59",
   "metadata": {},
   "outputs": [
    {
     "name": "stdout",
     "output_type": "stream",
     "text": [
      "<class 'pandas.core.frame.DataFrame'>\n",
      "RangeIndex: 200789 entries, 0 to 200788\n",
      "Data columns (total 20 columns):\n",
      " #   Column                   Non-Null Count   Dtype  \n",
      "---  ------                   --------------   -----  \n",
      " 0   release_speed_kph        200333 non-null  float64\n",
      " 1   swing_angle              200534 non-null  float64\n",
      " 2   deviation                194981 non-null  float64\n",
      " 3   release_position_y       200527 non-null  float64\n",
      " 4   release_position_z       200402 non-null  float64\n",
      " 5   bounce_position_y        200465 non-null  float64\n",
      " 6   bounce_position_x        200520 non-null  float64\n",
      " 7   crease_position_y        200535 non-null  float64\n",
      " 8   crease_position_z        200506 non-null  float64\n",
      " 9   stumps_position_y        200523 non-null  float64\n",
      " 10  stumps_position_z        200506 non-null  float64\n",
      " 11  bounce_velocity_ratio_z  200496 non-null  float64\n",
      " 12  release_angle            200533 non-null  float64\n",
      " 13  drop_angle               200510 non-null  float64\n",
      " 14  bounce_angle             200509 non-null  float64\n",
      " 15  batting_hand             200786 non-null  object \n",
      " 16  bowling_hand             200679 non-null  object \n",
      " 17  bowling_type             200416 non-null  object \n",
      " 18  runs                     200789 non-null  int64  \n",
      " 19  wicket                   200789 non-null  int64  \n",
      "dtypes: float64(15), int64(2), object(3)\n",
      "memory usage: 30.6+ MB\n"
     ]
    }
   ],
   "source": [
    "df.info()"
   ]
  },
  {
   "cell_type": "code",
   "execution_count": 208,
   "id": "3e91000e-b7fd-4d21-97f0-dba068a6ce4c",
   "metadata": {},
   "outputs": [],
   "source": [
    "df = df.drop(columns=['wicket'])  # Ignore 'wicket' as per instructions\n",
    "# df= df[df['runs']!=5] # dropping 5, since it is a rare occuring, most probably due to a misfield/overthrows\n",
    "# Handle missing values (fill numeric columns with median)\n",
    "df.fillna(df.median(numeric_only=True), inplace=True)\n",
    "\n",
    "# One-hot encode categorical variables\n",
    "categorical_cols = ['batting_hand', 'bowling_hand', 'bowling_type']\n",
    "df = pd.get_dummies(df, columns=categorical_cols, drop_first=True)"
   ]
  },
  {
   "cell_type": "markdown",
   "id": "dc210e79-1fd0-4839-8671-d3c5d6c283fb",
   "metadata": {},
   "source": [
    "# Given the unbalanced nature of the dataset, lets create weights, which we can use as a hyperparameter while training the model"
   ]
  },
  {
   "cell_type": "code",
   "execution_count": 209,
   "id": "a0675a97-de8f-40a6-8ee7-9e6ac50b17be",
   "metadata": {},
   "outputs": [
    {
     "data": {
      "text/plain": [
       "runs\n",
       "1    79101\n",
       "0    74828\n",
       "4    22295\n",
       "2    13531\n",
       "6    10218\n",
       "3      780\n",
       "5       36\n",
       "Name: count, dtype: int64"
      ]
     },
     "execution_count": 209,
     "metadata": {},
     "output_type": "execute_result"
    }
   ],
   "source": [
    "df['runs'].value_counts()"
   ]
  },
  {
   "cell_type": "code",
   "execution_count": 210,
   "id": "c8d1783d-43da-4c3b-9444-d901f3c82b11",
   "metadata": {},
   "outputs": [],
   "source": [
    "run_weights = {0:1,1:1,2:3,3:1.5,4:3,6:5,5:1}"
   ]
  },
  {
   "cell_type": "code",
   "execution_count": 211,
   "id": "08172d4f-9355-4d2e-8e3b-2a8026cebb1a",
   "metadata": {},
   "outputs": [],
   "source": [
    "df['weights'] = df['runs'].map(run_weights)"
   ]
  },
  {
   "cell_type": "code",
   "execution_count": 212,
   "id": "eaa7730a-9e28-4bbf-b762-deb0b52f03b9",
   "metadata": {},
   "outputs": [
    {
     "data": {
      "text/plain": [
       "0         1.0\n",
       "1         1.0\n",
       "2         1.0\n",
       "3         1.0\n",
       "4         1.0\n",
       "         ... \n",
       "200784    5.0\n",
       "200785    1.0\n",
       "200786    1.0\n",
       "200787    1.0\n",
       "200788    1.0\n",
       "Name: weights, Length: 200789, dtype: float64"
      ]
     },
     "execution_count": 212,
     "metadata": {},
     "output_type": "execute_result"
    }
   ],
   "source": [
    "df['weights']"
   ]
  },
  {
   "cell_type": "code",
   "execution_count": 3,
   "id": "946741b7-202b-49de-a3c9-b5ad50294bbf",
   "metadata": {},
   "outputs": [],
   "source": [
    "import xgboost as xgb\n",
    "from sklearn.model_selection import train_test_split\n",
    "from sklearn.preprocessing import OneHotEncoder\n",
    "from sklearn.metrics import mean_squared_error"
   ]
  },
  {
   "cell_type": "code",
   "execution_count": 230,
   "id": "bad04ed5-6b40-4dd2-b76d-f8becc2f3868",
   "metadata": {},
   "outputs": [],
   "source": [
    "# Define features and target\n",
    "X = df.drop(columns=['runs'])\n",
    "y = df['runs']\n",
    "\n",
    "# Train-Test Split\n",
    "X_train, X_test, y_train, y_test = train_test_split(X, y, test_size=0.2, random_state=42)\n",
    "\n",
    "# Initialize XGBoost Regressor\n",
    "model = xgb.XGBRegressor(\n",
    "    max_depth=6,\n",
    "    n_estimators=200,\n",
    "    learning_rate=0.05,\n",
    "    objective='reg:absoluteerror',\n",
    "    random_state=42\n",
    ")\n",
    "weight = X_train.pop('weights')\n",
    "weight_test= X_test.pop('weights')\n",
    "# Train model\n",
    "model.fit(X_train, y_train)\n",
    "\n",
    "# Predict and evaluate\n",
    "y_pred = model.predict(X_test)"
   ]
  },
  {
   "cell_type": "code",
   "execution_count": 231,
   "id": "3b3ff203-854a-4cd0-a101-1000251001ba",
   "metadata": {},
   "outputs": [],
   "source": [
    "pred_df = pd.DataFrame()\n",
    "pred_df['actual'] = y_test\n",
    "pred_df['pred'] = y_pred\n",
    "pred_df['pred'] = pred_df['pred'].round()\n",
    "pred_df['ape'] = abs(pred_df['actual']-pred_df['pred'])/pred_df['actual']\n",
    "pred_df['squared_error'] = (pred_df['actual'] - pred_df['pred']) ** 2"
   ]
  },
  {
   "cell_type": "code",
   "execution_count": 232,
   "id": "fa8a7eed-24ee-42cc-b1cb-f7c92ba59e43",
   "metadata": {},
   "outputs": [
    {
     "data": {
      "text/plain": [
       "actual\n",
       "1    15924\n",
       "0    14848\n",
       "4     4433\n",
       "2     2709\n",
       "6     2082\n",
       "3      152\n",
       "5       10\n",
       "Name: count, dtype: int64"
      ]
     },
     "execution_count": 232,
     "metadata": {},
     "output_type": "execute_result"
    }
   ],
   "source": [
    "pred_df['actual'].value_counts()"
   ]
  },
  {
   "cell_type": "code",
   "execution_count": 233,
   "id": "97115a25-5da6-4eae-861c-b0b314d76bcc",
   "metadata": {},
   "outputs": [
    {
     "data": {
      "text/plain": [
       "pred\n",
       "1.0    39690\n",
       "0.0      455\n",
       "2.0       13\n",
       "Name: count, dtype: int64"
      ]
     },
     "execution_count": 233,
     "metadata": {},
     "output_type": "execute_result"
    }
   ],
   "source": [
    "pred_df['pred'].value_counts()"
   ]
  },
  {
   "cell_type": "code",
   "execution_count": 234,
   "id": "681c7ce5-66a0-4303-aae0-1c7cefc2cb75",
   "metadata": {},
   "outputs": [
    {
     "data": {
      "text/plain": [
       "0.26239299354668777"
      ]
     },
     "execution_count": 234,
     "metadata": {},
     "output_type": "execute_result"
    }
   ],
   "source": [
    "pred_df[pred_df['actual']>0]['ape'].mean()"
   ]
  },
  {
   "cell_type": "markdown",
   "id": "9aa2e917-9457-40f6-8459-cb66553845a3",
   "metadata": {},
   "source": [
    "# Model is 'playing safe' and completely avoiding predicting boundaries, since they are low in number. Lets add a weight parameter while fitting to balance things out"
   ]
  },
  {
   "cell_type": "code",
   "execution_count": 236,
   "id": "add734bd-2c23-4f86-a997-9b823cb2d1ae",
   "metadata": {},
   "outputs": [],
   "source": [
    "# Define features and target\n",
    "X = df.drop(columns=['runs'])\n",
    "y = df['runs']\n",
    "\n",
    "# Train-Test Split\n",
    "X_train, X_test, y_train, y_test = train_test_split(X, y, test_size=0.2, random_state=42)\n",
    "\n",
    "# Initialize XGBoost Regressor\n",
    "model = xgb.XGBRegressor(\n",
    "    max_depth=6,\n",
    "    n_estimators=200,\n",
    "    learning_rate=0.05,\n",
    "    objective='reg:absoluteerror',\n",
    "    random_state=42\n",
    ")\n",
    "weight = X_train.pop('weights')\n",
    "weight_test= X_test.pop('weights')\n",
    "# Train model\n",
    "model.fit(X_train, y_train, sample_weight=weight)\n",
    "\n",
    "# Predict and evaluate\n",
    "y_pred = model.predict(X_test)"
   ]
  },
  {
   "cell_type": "code",
   "execution_count": 239,
   "id": "acb900ef-34b3-40dc-972f-d08ff914bfa3",
   "metadata": {},
   "outputs": [],
   "source": [
    "pred_df = pd.DataFrame()\n",
    "pred_df['actual'] = y_test\n",
    "pred_df['pred'] = y_pred\n",
    "pred_df['pred'] = pred_df['pred'].round()\n",
    "pred_df['ape'] = abs(pred_df['actual']-pred_df['pred'])/pred_df['actual']\n",
    "pred_df['squared_error'] = (pred_df['actual'] - pred_df['pred']) ** 2"
   ]
  },
  {
   "cell_type": "code",
   "execution_count": 240,
   "id": "3ac1825d-7cfd-431b-b936-938a335a6e97",
   "metadata": {},
   "outputs": [
    {
     "data": {
      "text/plain": [
       "actual\n",
       "1    15924\n",
       "0    14848\n",
       "4     4433\n",
       "2     2709\n",
       "6     2082\n",
       "3      152\n",
       "5       10\n",
       "Name: count, dtype: int64"
      ]
     },
     "execution_count": 240,
     "metadata": {},
     "output_type": "execute_result"
    }
   ],
   "source": [
    "pred_df['actual'].value_counts()"
   ]
  },
  {
   "cell_type": "code",
   "execution_count": 241,
   "id": "7143a8b4-0d38-44b9-8bdd-89cf2a31a92f",
   "metadata": {},
   "outputs": [
    {
     "data": {
      "text/plain": [
       "pred\n",
       " 1.0    19516\n",
       " 2.0    16670\n",
       " 3.0     2803\n",
       " 4.0     1062\n",
       " 0.0       98\n",
       " 5.0        8\n",
       "-1.0        1\n",
       "Name: count, dtype: int64"
      ]
     },
     "execution_count": 241,
     "metadata": {},
     "output_type": "execute_result"
    }
   ],
   "source": [
    "pred_df['pred'].value_counts()"
   ]
  },
  {
   "cell_type": "code",
   "execution_count": 242,
   "id": "0de5a717-f4d2-4a12-ac66-d129e0c13adb",
   "metadata": {},
   "outputs": [
    {
     "data": {
      "text/plain": [
       "0.543561174766232"
      ]
     },
     "execution_count": 242,
     "metadata": {},
     "output_type": "execute_result"
    }
   ],
   "source": [
    "pred_df[pred_df['actual']>0]['ape'].mean()"
   ]
  },
  {
   "cell_type": "markdown",
   "id": "cf767135-6bc3-445a-99d3-2f78894291f6",
   "metadata": {},
   "source": [
    "# On trying to balance the dataset, the mape takes a hit"
   ]
  },
  {
   "cell_type": "markdown",
   "id": "a6a4f9a0-4618-4900-a5d9-0c4cb77bdbfa",
   "metadata": {},
   "source": [
    "# Lets try a classification model and see how it works"
   ]
  },
  {
   "cell_type": "code",
   "execution_count": 243,
   "id": "591fcbf5-2d2c-4bf9-8b54-9a68ae145f66",
   "metadata": {},
   "outputs": [
    {
     "data": {
      "text/html": [
       "<style>#sk-container-id-2 {color: black;background-color: white;}#sk-container-id-2 pre{padding: 0;}#sk-container-id-2 div.sk-toggleable {background-color: white;}#sk-container-id-2 label.sk-toggleable__label {cursor: pointer;display: block;width: 100%;margin-bottom: 0;padding: 0.3em;box-sizing: border-box;text-align: center;}#sk-container-id-2 label.sk-toggleable__label-arrow:before {content: \"▸\";float: left;margin-right: 0.25em;color: #696969;}#sk-container-id-2 label.sk-toggleable__label-arrow:hover:before {color: black;}#sk-container-id-2 div.sk-estimator:hover label.sk-toggleable__label-arrow:before {color: black;}#sk-container-id-2 div.sk-toggleable__content {max-height: 0;max-width: 0;overflow: hidden;text-align: left;background-color: #f0f8ff;}#sk-container-id-2 div.sk-toggleable__content pre {margin: 0.2em;color: black;border-radius: 0.25em;background-color: #f0f8ff;}#sk-container-id-2 input.sk-toggleable__control:checked~div.sk-toggleable__content {max-height: 200px;max-width: 100%;overflow: auto;}#sk-container-id-2 input.sk-toggleable__control:checked~label.sk-toggleable__label-arrow:before {content: \"▾\";}#sk-container-id-2 div.sk-estimator input.sk-toggleable__control:checked~label.sk-toggleable__label {background-color: #d4ebff;}#sk-container-id-2 div.sk-label input.sk-toggleable__control:checked~label.sk-toggleable__label {background-color: #d4ebff;}#sk-container-id-2 input.sk-hidden--visually {border: 0;clip: rect(1px 1px 1px 1px);clip: rect(1px, 1px, 1px, 1px);height: 1px;margin: -1px;overflow: hidden;padding: 0;position: absolute;width: 1px;}#sk-container-id-2 div.sk-estimator {font-family: monospace;background-color: #f0f8ff;border: 1px dotted black;border-radius: 0.25em;box-sizing: border-box;margin-bottom: 0.5em;}#sk-container-id-2 div.sk-estimator:hover {background-color: #d4ebff;}#sk-container-id-2 div.sk-parallel-item::after {content: \"\";width: 100%;border-bottom: 1px solid gray;flex-grow: 1;}#sk-container-id-2 div.sk-label:hover label.sk-toggleable__label {background-color: #d4ebff;}#sk-container-id-2 div.sk-serial::before {content: \"\";position: absolute;border-left: 1px solid gray;box-sizing: border-box;top: 0;bottom: 0;left: 50%;z-index: 0;}#sk-container-id-2 div.sk-serial {display: flex;flex-direction: column;align-items: center;background-color: white;padding-right: 0.2em;padding-left: 0.2em;position: relative;}#sk-container-id-2 div.sk-item {position: relative;z-index: 1;}#sk-container-id-2 div.sk-parallel {display: flex;align-items: stretch;justify-content: center;background-color: white;position: relative;}#sk-container-id-2 div.sk-item::before, #sk-container-id-2 div.sk-parallel-item::before {content: \"\";position: absolute;border-left: 1px solid gray;box-sizing: border-box;top: 0;bottom: 0;left: 50%;z-index: -1;}#sk-container-id-2 div.sk-parallel-item {display: flex;flex-direction: column;z-index: 1;position: relative;background-color: white;}#sk-container-id-2 div.sk-parallel-item:first-child::after {align-self: flex-end;width: 50%;}#sk-container-id-2 div.sk-parallel-item:last-child::after {align-self: flex-start;width: 50%;}#sk-container-id-2 div.sk-parallel-item:only-child::after {width: 0;}#sk-container-id-2 div.sk-dashed-wrapped {border: 1px dashed gray;margin: 0 0.4em 0.5em 0.4em;box-sizing: border-box;padding-bottom: 0.4em;background-color: white;}#sk-container-id-2 div.sk-label label {font-family: monospace;font-weight: bold;display: inline-block;line-height: 1.2em;}#sk-container-id-2 div.sk-label-container {text-align: center;}#sk-container-id-2 div.sk-container {/* jupyter's `normalize.less` sets `[hidden] { display: none; }` but bootstrap.min.css set `[hidden] { display: none !important; }` so we also need the `!important` here to be able to override the default hidden behavior on the sphinx rendered scikit-learn.org. See: https://github.com/scikit-learn/scikit-learn/issues/21755 */display: inline-block !important;position: relative;}#sk-container-id-2 div.sk-text-repr-fallback {display: none;}</style><div id=\"sk-container-id-2\" class=\"sk-top-container\"><div class=\"sk-text-repr-fallback\"><pre>XGBClassifier(base_score=None, booster=None, callbacks=None,\n",
       "              colsample_bylevel=None, colsample_bynode=None,\n",
       "              colsample_bytree=None, device=None, early_stopping_rounds=None,\n",
       "              enable_categorical=False, eval_metric=None, feature_types=None,\n",
       "              gamma=None, grow_policy=None, importance_type=None,\n",
       "              interaction_constraints=None, learning_rate=0.05, max_bin=None,\n",
       "              max_cat_threshold=None, max_cat_to_onehot=None,\n",
       "              max_delta_step=None, max_depth=8, max_leaves=None,\n",
       "              min_child_weight=None, missing=nan, monotone_constraints=None,\n",
       "              multi_strategy=None, n_estimators=200, n_jobs=None, num_class=7,\n",
       "              num_parallel_tree=None, ...)</pre><b>In a Jupyter environment, please rerun this cell to show the HTML representation or trust the notebook. <br />On GitHub, the HTML representation is unable to render, please try loading this page with nbviewer.org.</b></div><div class=\"sk-container\" hidden><div class=\"sk-item\"><div class=\"sk-estimator sk-toggleable\"><input class=\"sk-toggleable__control sk-hidden--visually\" id=\"sk-estimator-id-2\" type=\"checkbox\" checked><label for=\"sk-estimator-id-2\" class=\"sk-toggleable__label sk-toggleable__label-arrow\">XGBClassifier</label><div class=\"sk-toggleable__content\"><pre>XGBClassifier(base_score=None, booster=None, callbacks=None,\n",
       "              colsample_bylevel=None, colsample_bynode=None,\n",
       "              colsample_bytree=None, device=None, early_stopping_rounds=None,\n",
       "              enable_categorical=False, eval_metric=None, feature_types=None,\n",
       "              gamma=None, grow_policy=None, importance_type=None,\n",
       "              interaction_constraints=None, learning_rate=0.05, max_bin=None,\n",
       "              max_cat_threshold=None, max_cat_to_onehot=None,\n",
       "              max_delta_step=None, max_depth=8, max_leaves=None,\n",
       "              min_child_weight=None, missing=nan, monotone_constraints=None,\n",
       "              multi_strategy=None, n_estimators=200, n_jobs=None, num_class=7,\n",
       "              num_parallel_tree=None, ...)</pre></div></div></div></div></div>"
      ],
      "text/plain": [
       "XGBClassifier(base_score=None, booster=None, callbacks=None,\n",
       "              colsample_bylevel=None, colsample_bynode=None,\n",
       "              colsample_bytree=None, device=None, early_stopping_rounds=None,\n",
       "              enable_categorical=False, eval_metric=None, feature_types=None,\n",
       "              gamma=None, grow_policy=None, importance_type=None,\n",
       "              interaction_constraints=None, learning_rate=0.05, max_bin=None,\n",
       "              max_cat_threshold=None, max_cat_to_onehot=None,\n",
       "              max_delta_step=None, max_depth=8, max_leaves=None,\n",
       "              min_child_weight=None, missing=nan, monotone_constraints=None,\n",
       "              multi_strategy=None, n_estimators=200, n_jobs=None, num_class=7,\n",
       "              num_parallel_tree=None, ...)"
      ]
     },
     "execution_count": 243,
     "metadata": {},
     "output_type": "execute_result"
    }
   ],
   "source": [
    "X = df.drop(columns=['runs'])\n",
    "y = df['runs']\n",
    "\n",
    "# Apply a simple mapping: 1 -> 1, 2 -> 2, etc.\n",
    "y_mapped = y.apply(lambda x: x if x in [0, 1, 2, 3, 4,5, 6] else None)\n",
    "\n",
    "# Drop any None values from y_mapped if they exist (optional, if your data is clean)\n",
    "y_mapped = y_mapped.dropna()\n",
    "\n",
    "# Ensure corresponding rows in X are kept\n",
    "X = X.loc[y_mapped.index]\n",
    "\n",
    "# Train-Test Split\n",
    "X_train, X_test, y_train, y_test = train_test_split(X, y_mapped, test_size=0.2, random_state=42)\n",
    "\n",
    "# Initialize XGBoost Classifier\n",
    "model = xgb.XGBClassifier(\n",
    "    max_depth=8,\n",
    "    n_estimators=200,\n",
    "    learning_rate=0.05,\n",
    "    objective='multi:softmax',  # Multi-class classification\n",
    "    random_state=42,\n",
    "    num_class=7 # Number of categories/classes (adjust as needed)\n",
    ")\n",
    "\n",
    "# Pop the 'weights' column from the features\n",
    "weight_train = X_train.pop('weights')\n",
    "weight_test = X_test.pop('weights')\n",
    "\n",
    "# Train model\n",
    "model.fit(X_train, y_train, sample_weight=weight_train)"
   ]
  },
  {
   "cell_type": "code",
   "execution_count": 244,
   "id": "e283884c-3224-4c99-b173-a12f7a14f2dc",
   "metadata": {},
   "outputs": [],
   "source": [
    "y_pred = model.predict(X_test)"
   ]
  },
  {
   "cell_type": "code",
   "execution_count": 245,
   "id": "61a92bb4-dd27-4d5a-a439-10f60a41fa92",
   "metadata": {},
   "outputs": [],
   "source": [
    "from sklearn.metrics import accuracy_score\n",
    "accuracy = accuracy_score(y_test, y_pred)"
   ]
  },
  {
   "cell_type": "code",
   "execution_count": null,
   "id": "4c09fc60-ed25-475c-81bc-bf74612bb4fa",
   "metadata": {},
   "outputs": [],
   "source": []
  },
  {
   "cell_type": "code",
   "execution_count": 246,
   "id": "88f91ad8-fdb6-4a89-bdd3-c7a6db7474d7",
   "metadata": {},
   "outputs": [
    {
     "data": {
      "text/plain": [
       "0.39469097066586983"
      ]
     },
     "execution_count": 246,
     "metadata": {},
     "output_type": "execute_result"
    }
   ],
   "source": [
    "accuracy"
   ]
  },
  {
   "cell_type": "code",
   "execution_count": 247,
   "id": "0add30e7-d453-461d-95d4-5cb60c841010",
   "metadata": {},
   "outputs": [],
   "source": [
    "results_df = pd.DataFrame({\n",
    "    'Actual': y_test,\n",
    "    'Predicted': y_pred\n",
    "})"
   ]
  },
  {
   "cell_type": "code",
   "execution_count": 248,
   "id": "8839d143-7984-44fa-ba6e-00e570311a14",
   "metadata": {},
   "outputs": [
    {
     "data": {
      "text/plain": [
       "Actual\n",
       "1    15924\n",
       "0    14848\n",
       "4     4433\n",
       "2     2709\n",
       "6     2082\n",
       "3      152\n",
       "5       10\n",
       "Name: count, dtype: int64"
      ]
     },
     "execution_count": 248,
     "metadata": {},
     "output_type": "execute_result"
    }
   ],
   "source": [
    "results_df['Actual'].value_counts()"
   ]
  },
  {
   "cell_type": "code",
   "execution_count": 249,
   "id": "ecae112b-1138-4ee8-8b10-5580e6fc0051",
   "metadata": {},
   "outputs": [
    {
     "data": {
      "text/plain": [
       "Predicted\n",
       "1    16707\n",
       "0    11749\n",
       "4     8395\n",
       "6     3201\n",
       "2      106\n",
       "Name: count, dtype: int64"
      ]
     },
     "execution_count": 249,
     "metadata": {},
     "output_type": "execute_result"
    }
   ],
   "source": [
    "results_df['Predicted'].value_counts()"
   ]
  },
  {
   "cell_type": "code",
   "execution_count": 250,
   "id": "dd4e7744-45a8-4e4e-8bf3-be13069028e7",
   "metadata": {},
   "outputs": [],
   "source": [
    "y_pred_prob = model.predict_proba(X_test)\n",
    "\n",
    "# Create a DataFrame with the probabilities\n",
    "probabilities_df = pd.DataFrame(y_pred_prob, columns=[f'Class_{i}' for i in range(7)])\n",
    "\n",
    "# Add the actual labels to the DataFrame\n",
    "probabilities_df['Actual'] = y_test.values"
   ]
  },
  {
   "cell_type": "markdown",
   "id": "e0cee4d3-0d8f-4e98-b346-ed1ab59fc37f",
   "metadata": {},
   "source": [
    "# for multi class classification models, accuracy alone is not a good evaluation metric. its important to look at other metrics like log loss and multi class roc auc"
   ]
  },
  {
   "cell_type": "code",
   "execution_count": 251,
   "id": "77ff110e-febd-427c-9a04-f2c8aac76459",
   "metadata": {},
   "outputs": [
    {
     "data": {
      "text/html": [
       "<div>\n",
       "<style scoped>\n",
       "    .dataframe tbody tr th:only-of-type {\n",
       "        vertical-align: middle;\n",
       "    }\n",
       "\n",
       "    .dataframe tbody tr th {\n",
       "        vertical-align: top;\n",
       "    }\n",
       "\n",
       "    .dataframe thead th {\n",
       "        text-align: right;\n",
       "    }\n",
       "</style>\n",
       "<table border=\"1\" class=\"dataframe\">\n",
       "  <thead>\n",
       "    <tr style=\"text-align: right;\">\n",
       "      <th></th>\n",
       "      <th>Class_0</th>\n",
       "      <th>Class_1</th>\n",
       "      <th>Class_2</th>\n",
       "      <th>Class_3</th>\n",
       "      <th>Class_4</th>\n",
       "      <th>Class_5</th>\n",
       "      <th>Class_6</th>\n",
       "      <th>Actual</th>\n",
       "    </tr>\n",
       "  </thead>\n",
       "  <tbody>\n",
       "    <tr>\n",
       "      <th>0</th>\n",
       "      <td>0.135950</td>\n",
       "      <td>0.314956</td>\n",
       "      <td>0.161893</td>\n",
       "      <td>0.003249</td>\n",
       "      <td>0.181268</td>\n",
       "      <td>0.000997</td>\n",
       "      <td>0.201688</td>\n",
       "      <td>1</td>\n",
       "    </tr>\n",
       "    <tr>\n",
       "      <th>1</th>\n",
       "      <td>0.265131</td>\n",
       "      <td>0.224126</td>\n",
       "      <td>0.119316</td>\n",
       "      <td>0.003285</td>\n",
       "      <td>0.216563</td>\n",
       "      <td>0.000917</td>\n",
       "      <td>0.170663</td>\n",
       "      <td>4</td>\n",
       "    </tr>\n",
       "    <tr>\n",
       "      <th>2</th>\n",
       "      <td>0.256085</td>\n",
       "      <td>0.396679</td>\n",
       "      <td>0.115343</td>\n",
       "      <td>0.003322</td>\n",
       "      <td>0.096123</td>\n",
       "      <td>0.000856</td>\n",
       "      <td>0.131593</td>\n",
       "      <td>0</td>\n",
       "    </tr>\n",
       "    <tr>\n",
       "      <th>3</th>\n",
       "      <td>0.292560</td>\n",
       "      <td>0.139240</td>\n",
       "      <td>0.110314</td>\n",
       "      <td>0.004325</td>\n",
       "      <td>0.210242</td>\n",
       "      <td>0.000854</td>\n",
       "      <td>0.242464</td>\n",
       "      <td>0</td>\n",
       "    </tr>\n",
       "    <tr>\n",
       "      <th>4</th>\n",
       "      <td>0.271609</td>\n",
       "      <td>0.344990</td>\n",
       "      <td>0.121961</td>\n",
       "      <td>0.002540</td>\n",
       "      <td>0.111483</td>\n",
       "      <td>0.000777</td>\n",
       "      <td>0.146640</td>\n",
       "      <td>1</td>\n",
       "    </tr>\n",
       "    <tr>\n",
       "      <th>...</th>\n",
       "      <td>...</td>\n",
       "      <td>...</td>\n",
       "      <td>...</td>\n",
       "      <td>...</td>\n",
       "      <td>...</td>\n",
       "      <td>...</td>\n",
       "      <td>...</td>\n",
       "      <td>...</td>\n",
       "    </tr>\n",
       "    <tr>\n",
       "      <th>40153</th>\n",
       "      <td>0.196660</td>\n",
       "      <td>0.249916</td>\n",
       "      <td>0.125905</td>\n",
       "      <td>0.004017</td>\n",
       "      <td>0.233098</td>\n",
       "      <td>0.000949</td>\n",
       "      <td>0.189456</td>\n",
       "      <td>1</td>\n",
       "    </tr>\n",
       "    <tr>\n",
       "      <th>40154</th>\n",
       "      <td>0.120199</td>\n",
       "      <td>0.189587</td>\n",
       "      <td>0.167606</td>\n",
       "      <td>0.003644</td>\n",
       "      <td>0.225406</td>\n",
       "      <td>0.000730</td>\n",
       "      <td>0.292829</td>\n",
       "      <td>1</td>\n",
       "    </tr>\n",
       "    <tr>\n",
       "      <th>40155</th>\n",
       "      <td>0.461706</td>\n",
       "      <td>0.257868</td>\n",
       "      <td>0.148384</td>\n",
       "      <td>0.006592</td>\n",
       "      <td>0.076572</td>\n",
       "      <td>0.001037</td>\n",
       "      <td>0.047842</td>\n",
       "      <td>0</td>\n",
       "    </tr>\n",
       "    <tr>\n",
       "      <th>40156</th>\n",
       "      <td>0.273937</td>\n",
       "      <td>0.345463</td>\n",
       "      <td>0.130219</td>\n",
       "      <td>0.003083</td>\n",
       "      <td>0.087940</td>\n",
       "      <td>0.000843</td>\n",
       "      <td>0.158516</td>\n",
       "      <td>2</td>\n",
       "    </tr>\n",
       "    <tr>\n",
       "      <th>40157</th>\n",
       "      <td>0.286078</td>\n",
       "      <td>0.278041</td>\n",
       "      <td>0.089845</td>\n",
       "      <td>0.002512</td>\n",
       "      <td>0.086012</td>\n",
       "      <td>0.000875</td>\n",
       "      <td>0.256638</td>\n",
       "      <td>1</td>\n",
       "    </tr>\n",
       "  </tbody>\n",
       "</table>\n",
       "<p>40158 rows × 8 columns</p>\n",
       "</div>"
      ],
      "text/plain": [
       "        Class_0   Class_1   Class_2   Class_3   Class_4   Class_5   Class_6  \\\n",
       "0      0.135950  0.314956  0.161893  0.003249  0.181268  0.000997  0.201688   \n",
       "1      0.265131  0.224126  0.119316  0.003285  0.216563  0.000917  0.170663   \n",
       "2      0.256085  0.396679  0.115343  0.003322  0.096123  0.000856  0.131593   \n",
       "3      0.292560  0.139240  0.110314  0.004325  0.210242  0.000854  0.242464   \n",
       "4      0.271609  0.344990  0.121961  0.002540  0.111483  0.000777  0.146640   \n",
       "...         ...       ...       ...       ...       ...       ...       ...   \n",
       "40153  0.196660  0.249916  0.125905  0.004017  0.233098  0.000949  0.189456   \n",
       "40154  0.120199  0.189587  0.167606  0.003644  0.225406  0.000730  0.292829   \n",
       "40155  0.461706  0.257868  0.148384  0.006592  0.076572  0.001037  0.047842   \n",
       "40156  0.273937  0.345463  0.130219  0.003083  0.087940  0.000843  0.158516   \n",
       "40157  0.286078  0.278041  0.089845  0.002512  0.086012  0.000875  0.256638   \n",
       "\n",
       "       Actual  \n",
       "0           1  \n",
       "1           4  \n",
       "2           0  \n",
       "3           0  \n",
       "4           1  \n",
       "...       ...  \n",
       "40153       1  \n",
       "40154       1  \n",
       "40155       0  \n",
       "40156       2  \n",
       "40157       1  \n",
       "\n",
       "[40158 rows x 8 columns]"
      ]
     },
     "execution_count": 251,
     "metadata": {},
     "output_type": "execute_result"
    }
   ],
   "source": [
    "probabilities_df"
   ]
  },
  {
   "cell_type": "code",
   "execution_count": 186,
   "id": "63897c3b-9a71-4066-8253-b46ca8abfb5a",
   "metadata": {},
   "outputs": [],
   "source": [
    "from sklearn.metrics import log_loss\n",
    "\n",
    "logloss = log_loss(y_test, y_pred_prob)"
   ]
  },
  {
   "cell_type": "markdown",
   "id": "c1bb28ef-6b38-4250-aba0-331c370cc677",
   "metadata": {},
   "source": [
    "# logloss close to 1 is better. 1.43 is not a bad log loss for 7-class classification problem"
   ]
  },
  {
   "cell_type": "code",
   "execution_count": 187,
   "id": "a145bd73-942a-471f-9b0c-39cf0d5a69fd",
   "metadata": {},
   "outputs": [
    {
     "data": {
      "text/plain": [
       "1.4376625012348676"
      ]
     },
     "execution_count": 187,
     "metadata": {},
     "output_type": "execute_result"
    }
   ],
   "source": [
    "logloss"
   ]
  },
  {
   "cell_type": "code",
   "execution_count": 188,
   "id": "71f8d11e-a4f0-4391-9261-5c58700b88dc",
   "metadata": {},
   "outputs": [],
   "source": [
    "from sklearn.metrics import roc_auc_score\n",
    "\n",
    "roc_auc = roc_auc_score(y_test, y_pred_prob, multi_class=\"ovr\")"
   ]
  },
  {
   "cell_type": "markdown",
   "id": "b37e7b6d-26af-46f8-9517-ccd392cb6f79",
   "metadata": {},
   "source": [
    "# Though roc_auc may seem very low, it is still a decent number given the number of classes"
   ]
  },
  {
   "cell_type": "code",
   "execution_count": 189,
   "id": "811fb17b-f5f6-4006-acef-8908f7bf6186",
   "metadata": {},
   "outputs": [
    {
     "data": {
      "text/plain": [
       "0.5859591060372448"
      ]
     },
     "execution_count": 189,
     "metadata": {},
     "output_type": "execute_result"
    }
   ],
   "source": [
    "roc_auc"
   ]
  },
  {
   "cell_type": "markdown",
   "id": "17565719-4f28-4ad5-a5b3-1caad84c9869",
   "metadata": {},
   "source": [
    "# Model improvement through feature engineering"
   ]
  },
  {
   "cell_type": "code",
   "execution_count": 170,
   "id": "6611b478-c009-4f5e-b7f2-dad5eb89173c",
   "metadata": {},
   "outputs": [],
   "source": [
    "df = pd.read_csv('data.csv')\n",
    "df['absolute_swing_angle'] = abs(df['swing_angle'])\n",
    "df['absolute_deviation'] = abs(df['deviation'])"
   ]
  },
  {
   "cell_type": "code",
   "execution_count": 171,
   "id": "2bc9c394-c816-4709-a997-d4f76cc3f0fe",
   "metadata": {},
   "outputs": [
    {
     "data": {
      "text/plain": [
       "0          5.35\n",
       "1          7.29\n",
       "2          3.78\n",
       "3          1.80\n",
       "4          4.03\n",
       "          ...  \n",
       "200784     5.51\n",
       "200785     3.87\n",
       "200786     1.91\n",
       "200787     7.15\n",
       "200788    11.89\n",
       "Name: bounce_position_x, Length: 200789, dtype: float64"
      ]
     },
     "execution_count": 171,
     "metadata": {},
     "output_type": "execute_result"
    }
   ],
   "source": [
    "df['bounce_position_x']"
   ]
  },
  {
   "cell_type": "code",
   "execution_count": 172,
   "id": "7f39ca2a-da93-40a8-afef-f4b96b01afa8",
   "metadata": {},
   "outputs": [],
   "source": [
    "def determine_bowling_type(row):\n",
    "    if row['bowling_type'] == 'spin':\n",
    "        if row['bowling_hand'] == 'right' and row['deviation'] > 0:\n",
    "            return 'Right Arm Leg Spin'\n",
    "        elif row['bowling_hand'] == 'left' and row['deviation'] < 0:\n",
    "            return 'Left Arm Off Spin'\n",
    "    elif row['bowling_type'] == 'pace':\n",
    "        if row['bowling_hand'] == 'right':\n",
    "            if row['swing_angle'] < 0:\n",
    "                return 'Right Arm In Swing'\n",
    "            else:\n",
    "                return 'Right Arm Out Swing'\n",
    "        elif row['bowling_hand'] == 'left':\n",
    "            if row['swing_angle'] < 0:\n",
    "                return 'Left Arm In Swing'\n",
    "            else:\n",
    "                return 'Left Arm Out Swing'\n",
    "    return 'Unknown'\n",
    "\n",
    "# Apply the function to the DataFrame\n",
    "df['bowling_type_indicator'] = df.apply(determine_bowling_type, axis=1)"
   ]
  },
  {
   "cell_type": "code",
   "execution_count": 173,
   "id": "1bb5d741-7729-4be1-ad45-f2015ed0d9ad",
   "metadata": {},
   "outputs": [],
   "source": [
    "df['handedness_interaction'] = ((df['bowling_hand'] == 'right') & (df['batting_hand'] == 'left')\n",
    ") | ((df['bowling_hand'] == 'left') & (df['batting_hand'] == 'right'))\n",
    "\n",
    "df['handedness_interaction'] = df['handedness_interaction'].astype(int)"
   ]
  },
  {
   "cell_type": "code",
   "execution_count": 174,
   "id": "0bd331f8-06d5-4576-89d9-bac374a66a7c",
   "metadata": {},
   "outputs": [],
   "source": [
    "def bowling_type_position(row):\n",
    "    if row['bowling_hand'] == 'right':\n",
    "        if row['release_position_y'] < 0:\n",
    "            return 'over_the_wicket'\n",
    "        else:\n",
    "            return 'around_the_wicket'\n",
    "    elif row['bowling_hand'] == 'left':\n",
    "        if row['release_position_y'] > 0:\n",
    "            return 'over_the_wicket'\n",
    "        else:\n",
    "            return 'around_the_wicket'\n",
    "    return 'unknown'\n",
    "\n",
    "# Apply the function to create the feature\n",
    "df['bowling_type_position'] = df.apply(bowling_type_position, axis=1)"
   ]
  },
  {
   "cell_type": "code",
   "execution_count": 175,
   "id": "94348f55-9b8a-4dd8-8c59-fd6cf85a5503",
   "metadata": {},
   "outputs": [],
   "source": [
    "def classify_length(row):\n",
    "    if pd.isna(row['bounce_position_x']) or row['bounce_position_x'] > 19:\n",
    "        if row['release_position_z'] >= 1.8:  \n",
    "            return 'beamer'\n",
    "        return 'full_toss'\n",
    "    elif row['bounce_position_x'] <= 2:\n",
    "        return 'yorker'\n",
    "    elif row['bounce_position_x'] <= 4.5:\n",
    "        return 'full'\n",
    "    elif row['bounce_position_x'] <= 7:\n",
    "        return 'good_length'\n",
    "    else:\n",
    "        return 'short_pitched'\n",
    "\n",
    "df['delivery length'] = df.apply(classify_length, axis=1)"
   ]
  },
  {
   "cell_type": "code",
   "execution_count": 176,
   "id": "6fe20627-051a-4fc2-9a6d-48f69a17d076",
   "metadata": {},
   "outputs": [],
   "source": [
    "def classify_line(row):\n",
    "    y_pos = row['stumps_position_y']  # Use the final position near stumps\n",
    "    batter_hand = row['batting_hand']  # Batter handedness\n",
    "\n",
    "    if -0.2 <= y_pos <= 0.2:  # Close to middle stump\n",
    "        return 'straight'\n",
    "    \n",
    "    if batter_hand == 'right':  \n",
    "        return 'wide_off_side' if y_pos < -0.2 else 'wide_leg_side'\n",
    "    else:  # Left-handed batter\n",
    "        return 'wide_leg_side' if y_pos < -0.2 else 'wide_off_side'\n",
    "\n",
    "df['delivery_line'] = df.apply(classify_line, axis=1)"
   ]
  },
  {
   "cell_type": "markdown",
   "id": "6a05693a-695f-45dc-a2ff-e4193519e641",
   "metadata": {},
   "source": [
    "# Since we are using non linear models, only adding interaction features will not add value. Lets add aggregated features and see whether things improve"
   ]
  },
  {
   "cell_type": "markdown",
   "id": "afe511e9-4781-4b5d-8048-91a8f1654e0f",
   "metadata": {},
   "source": [
    "# Tree based models such as XGBoost inherently handle normalization, so we need not perform it manually"
   ]
  },
  {
   "cell_type": "markdown",
   "id": "8fe62baf-69d4-4c28-85dd-5233c16b0d65",
   "metadata": {},
   "source": [
    "# first lets split the data into a train and test set and then add these features. We shall then reuse the same corresponding values in the test set. Goal is to to avoid bias due to data leakage"
   ]
  },
  {
   "cell_type": "code",
   "execution_count": 177,
   "id": "2418c9c6-c189-4640-ab3e-8dbc11fdc7ca",
   "metadata": {},
   "outputs": [],
   "source": [
    "target = 'runs'\n",
    "\n",
    "# Split into train & test (stratify if classification, otherwise just shuffle)\n",
    "train_df, test_df = train_test_split(df, test_size=0.2, random_state=42, shuffle=True)"
   ]
  },
  {
   "cell_type": "code",
   "execution_count": 178,
   "id": "24884c7a-8bcc-4507-a16c-b92d3902648f",
   "metadata": {},
   "outputs": [],
   "source": [
    "categorical_cols = df.select_dtypes(include=['object', 'category']).columns.tolist()\n",
    "continuous_cols = df.select_dtypes(include=['number']).columns.tolist()"
   ]
  },
  {
   "cell_type": "code",
   "execution_count": 179,
   "id": "0806f180-a43d-4998-b39a-8f7a227b50cd",
   "metadata": {},
   "outputs": [],
   "source": [
    "agg_dfs = []  # Store aggregated DataFrames\n",
    "\n",
    "# Loop through each categorical column and compute aggregates for all continuous variables\n",
    "for cat_col in categorical_cols:\n",
    "    agg_df = train_df.groupby(cat_col)[continuous_cols].agg(['mean', 'std']).reset_index()\n",
    "\n",
    "    # Rename columns using the format categorical_metric_continuous\n",
    "    agg_df.columns = [f\"{cat_col}_{stat}_{col}\" if stat else col for col, stat in agg_df.columns]\n",
    "\n",
    "    # Merge back with train & test data\n",
    "    train_df = train_df.merge(agg_df, on=cat_col, how='left')\n",
    "    test_df = test_df.merge(agg_df, on=cat_col, how='left')  # Apply train mappings\n",
    "\n",
    "    agg_dfs.append(agg_df)  # Store for reference"
   ]
  },
  {
   "cell_type": "code",
   "execution_count": 180,
   "id": "16b94356-47a7-44e9-91f2-4e04cd8761f5",
   "metadata": {},
   "outputs": [],
   "source": [
    "run_weights = {0:0.8,1:0.8,2:1,3:0.5,4:2,6:2,5:0.5}\n",
    "train_df['weights'] = train_df['runs'].map(run_weights)"
   ]
  },
  {
   "cell_type": "code",
   "execution_count": 181,
   "id": "b75e5af9-c788-477f-af45-a9d7daaf786a",
   "metadata": {},
   "outputs": [],
   "source": [
    "y_train = train_df.pop('runs')\n",
    "X_train = train_df.copy()\n",
    "y_test = test_df.pop('runs')\n",
    "X_test = test_df.copy()\n",
    "weights = X_train.pop('weights')\n",
    "wickets_train = X_train.pop('wicket')\n",
    "wickets_test = X_test.pop('wicket')"
   ]
  },
  {
   "cell_type": "code",
   "execution_count": 182,
   "id": "a4723970-bc9d-4eae-9fd6-2f781574aba5",
   "metadata": {},
   "outputs": [],
   "source": [
    "# # One-hot encode categorical columns\n",
    "# X_train = pd.get_dummies(X_train, columns=categorical_cols, drop_first=True)\n",
    "# X_test = pd.get_dummies(X_test, columns=categorical_cols, drop_first=True)\n",
    "\n",
    "# # Ensure both datasets have the same columns (handle cases where test data is missing a category)\n",
    "# X_train, X_test = X_train.align(X_test, join='left', axis=1, fill_value=0)"
   ]
  },
  {
   "cell_type": "code",
   "execution_count": 183,
   "id": "0719a0af-71c8-42b6-8e70-40aef84914c7",
   "metadata": {},
   "outputs": [],
   "source": [
    "X_train.drop(categorical_cols,axis=1,inplace=True)\n",
    "X_test.drop(categorical_cols,axis=1,inplace=True)"
   ]
  },
  {
   "cell_type": "code",
   "execution_count": 184,
   "id": "e400e941-ea48-4539-9641-6990460b470e",
   "metadata": {},
   "outputs": [],
   "source": [
    "X_train = X_train.apply(pd.to_numeric, errors='coerce')"
   ]
  },
  {
   "cell_type": "code",
   "execution_count": 185,
   "id": "0c5c502b-da2d-47e7-beff-8df1eb0aecea",
   "metadata": {},
   "outputs": [
    {
     "data": {
      "text/plain": [
       "['release_speed_kph',\n",
       " 'swing_angle',\n",
       " 'deviation',\n",
       " 'release_position_y',\n",
       " 'release_position_z',\n",
       " 'bounce_position_y',\n",
       " 'bounce_position_x',\n",
       " 'crease_position_y',\n",
       " 'crease_position_z',\n",
       " 'stumps_position_y',\n",
       " 'stumps_position_z',\n",
       " 'bounce_velocity_ratio_z',\n",
       " 'release_angle',\n",
       " 'drop_angle',\n",
       " 'bounce_angle',\n",
       " 'absolute_swing_angle',\n",
       " 'absolute_deviation',\n",
       " 'handedness_interaction',\n",
       " 'batting_hand_mean_release_speed_kph',\n",
       " 'batting_hand_std_release_speed_kph',\n",
       " 'batting_hand_mean_swing_angle',\n",
       " 'batting_hand_std_swing_angle',\n",
       " 'batting_hand_mean_deviation',\n",
       " 'batting_hand_std_deviation',\n",
       " 'batting_hand_mean_release_position_y',\n",
       " 'batting_hand_std_release_position_y',\n",
       " 'batting_hand_mean_release_position_z',\n",
       " 'batting_hand_std_release_position_z',\n",
       " 'batting_hand_mean_bounce_position_y',\n",
       " 'batting_hand_std_bounce_position_y',\n",
       " 'batting_hand_mean_bounce_position_x',\n",
       " 'batting_hand_std_bounce_position_x',\n",
       " 'batting_hand_mean_crease_position_y',\n",
       " 'batting_hand_std_crease_position_y',\n",
       " 'batting_hand_mean_crease_position_z',\n",
       " 'batting_hand_std_crease_position_z',\n",
       " 'batting_hand_mean_stumps_position_y',\n",
       " 'batting_hand_std_stumps_position_y',\n",
       " 'batting_hand_mean_stumps_position_z',\n",
       " 'batting_hand_std_stumps_position_z',\n",
       " 'batting_hand_mean_bounce_velocity_ratio_z',\n",
       " 'batting_hand_std_bounce_velocity_ratio_z',\n",
       " 'batting_hand_mean_release_angle',\n",
       " 'batting_hand_std_release_angle',\n",
       " 'batting_hand_mean_drop_angle',\n",
       " 'batting_hand_std_drop_angle',\n",
       " 'batting_hand_mean_bounce_angle',\n",
       " 'batting_hand_std_bounce_angle',\n",
       " 'batting_hand_mean_runs',\n",
       " 'batting_hand_std_runs',\n",
       " 'batting_hand_mean_wicket',\n",
       " 'batting_hand_std_wicket',\n",
       " 'batting_hand_mean_absolute_swing_angle',\n",
       " 'batting_hand_std_absolute_swing_angle',\n",
       " 'batting_hand_mean_absolute_deviation',\n",
       " 'batting_hand_std_absolute_deviation',\n",
       " 'batting_hand_mean_handedness_interaction',\n",
       " 'batting_hand_std_handedness_interaction',\n",
       " 'bowling_hand_mean_release_speed_kph',\n",
       " 'bowling_hand_std_release_speed_kph',\n",
       " 'bowling_hand_mean_swing_angle',\n",
       " 'bowling_hand_std_swing_angle',\n",
       " 'bowling_hand_mean_deviation',\n",
       " 'bowling_hand_std_deviation',\n",
       " 'bowling_hand_mean_release_position_y',\n",
       " 'bowling_hand_std_release_position_y',\n",
       " 'bowling_hand_mean_release_position_z',\n",
       " 'bowling_hand_std_release_position_z',\n",
       " 'bowling_hand_mean_bounce_position_y',\n",
       " 'bowling_hand_std_bounce_position_y',\n",
       " 'bowling_hand_mean_bounce_position_x',\n",
       " 'bowling_hand_std_bounce_position_x',\n",
       " 'bowling_hand_mean_crease_position_y',\n",
       " 'bowling_hand_std_crease_position_y',\n",
       " 'bowling_hand_mean_crease_position_z',\n",
       " 'bowling_hand_std_crease_position_z',\n",
       " 'bowling_hand_mean_stumps_position_y',\n",
       " 'bowling_hand_std_stumps_position_y',\n",
       " 'bowling_hand_mean_stumps_position_z',\n",
       " 'bowling_hand_std_stumps_position_z',\n",
       " 'bowling_hand_mean_bounce_velocity_ratio_z',\n",
       " 'bowling_hand_std_bounce_velocity_ratio_z',\n",
       " 'bowling_hand_mean_release_angle',\n",
       " 'bowling_hand_std_release_angle',\n",
       " 'bowling_hand_mean_drop_angle',\n",
       " 'bowling_hand_std_drop_angle',\n",
       " 'bowling_hand_mean_bounce_angle',\n",
       " 'bowling_hand_std_bounce_angle',\n",
       " 'bowling_hand_mean_runs',\n",
       " 'bowling_hand_std_runs',\n",
       " 'bowling_hand_mean_wicket',\n",
       " 'bowling_hand_std_wicket',\n",
       " 'bowling_hand_mean_absolute_swing_angle',\n",
       " 'bowling_hand_std_absolute_swing_angle',\n",
       " 'bowling_hand_mean_absolute_deviation',\n",
       " 'bowling_hand_std_absolute_deviation',\n",
       " 'bowling_hand_mean_handedness_interaction',\n",
       " 'bowling_hand_std_handedness_interaction',\n",
       " 'bowling_type_mean_release_speed_kph',\n",
       " 'bowling_type_std_release_speed_kph',\n",
       " 'bowling_type_mean_swing_angle',\n",
       " 'bowling_type_std_swing_angle',\n",
       " 'bowling_type_mean_deviation',\n",
       " 'bowling_type_std_deviation',\n",
       " 'bowling_type_mean_release_position_y',\n",
       " 'bowling_type_std_release_position_y',\n",
       " 'bowling_type_mean_release_position_z',\n",
       " 'bowling_type_std_release_position_z',\n",
       " 'bowling_type_mean_bounce_position_y',\n",
       " 'bowling_type_std_bounce_position_y',\n",
       " 'bowling_type_mean_bounce_position_x',\n",
       " 'bowling_type_std_bounce_position_x',\n",
       " 'bowling_type_mean_crease_position_y',\n",
       " 'bowling_type_std_crease_position_y',\n",
       " 'bowling_type_mean_crease_position_z',\n",
       " 'bowling_type_std_crease_position_z',\n",
       " 'bowling_type_mean_stumps_position_y',\n",
       " 'bowling_type_std_stumps_position_y',\n",
       " 'bowling_type_mean_stumps_position_z',\n",
       " 'bowling_type_std_stumps_position_z',\n",
       " 'bowling_type_mean_bounce_velocity_ratio_z',\n",
       " 'bowling_type_std_bounce_velocity_ratio_z',\n",
       " 'bowling_type_mean_release_angle',\n",
       " 'bowling_type_std_release_angle',\n",
       " 'bowling_type_mean_drop_angle',\n",
       " 'bowling_type_std_drop_angle',\n",
       " 'bowling_type_mean_bounce_angle',\n",
       " 'bowling_type_std_bounce_angle',\n",
       " 'bowling_type_mean_runs',\n",
       " 'bowling_type_std_runs',\n",
       " 'bowling_type_mean_wicket',\n",
       " 'bowling_type_std_wicket',\n",
       " 'bowling_type_mean_absolute_swing_angle',\n",
       " 'bowling_type_std_absolute_swing_angle',\n",
       " 'bowling_type_mean_absolute_deviation',\n",
       " 'bowling_type_std_absolute_deviation',\n",
       " 'bowling_type_mean_handedness_interaction',\n",
       " 'bowling_type_std_handedness_interaction',\n",
       " 'bowling_type_indicator_mean_release_speed_kph',\n",
       " 'bowling_type_indicator_std_release_speed_kph',\n",
       " 'bowling_type_indicator_mean_swing_angle',\n",
       " 'bowling_type_indicator_std_swing_angle',\n",
       " 'bowling_type_indicator_mean_deviation',\n",
       " 'bowling_type_indicator_std_deviation',\n",
       " 'bowling_type_indicator_mean_release_position_y',\n",
       " 'bowling_type_indicator_std_release_position_y',\n",
       " 'bowling_type_indicator_mean_release_position_z',\n",
       " 'bowling_type_indicator_std_release_position_z',\n",
       " 'bowling_type_indicator_mean_bounce_position_y',\n",
       " 'bowling_type_indicator_std_bounce_position_y',\n",
       " 'bowling_type_indicator_mean_bounce_position_x',\n",
       " 'bowling_type_indicator_std_bounce_position_x',\n",
       " 'bowling_type_indicator_mean_crease_position_y',\n",
       " 'bowling_type_indicator_std_crease_position_y',\n",
       " 'bowling_type_indicator_mean_crease_position_z',\n",
       " 'bowling_type_indicator_std_crease_position_z',\n",
       " 'bowling_type_indicator_mean_stumps_position_y',\n",
       " 'bowling_type_indicator_std_stumps_position_y',\n",
       " 'bowling_type_indicator_mean_stumps_position_z',\n",
       " 'bowling_type_indicator_std_stumps_position_z',\n",
       " 'bowling_type_indicator_mean_bounce_velocity_ratio_z',\n",
       " 'bowling_type_indicator_std_bounce_velocity_ratio_z',\n",
       " 'bowling_type_indicator_mean_release_angle',\n",
       " 'bowling_type_indicator_std_release_angle',\n",
       " 'bowling_type_indicator_mean_drop_angle',\n",
       " 'bowling_type_indicator_std_drop_angle',\n",
       " 'bowling_type_indicator_mean_bounce_angle',\n",
       " 'bowling_type_indicator_std_bounce_angle',\n",
       " 'bowling_type_indicator_mean_runs',\n",
       " 'bowling_type_indicator_std_runs',\n",
       " 'bowling_type_indicator_mean_wicket',\n",
       " 'bowling_type_indicator_std_wicket',\n",
       " 'bowling_type_indicator_mean_absolute_swing_angle',\n",
       " 'bowling_type_indicator_std_absolute_swing_angle',\n",
       " 'bowling_type_indicator_mean_absolute_deviation',\n",
       " 'bowling_type_indicator_std_absolute_deviation',\n",
       " 'bowling_type_indicator_mean_handedness_interaction',\n",
       " 'bowling_type_indicator_std_handedness_interaction',\n",
       " 'bowling_type_position_mean_release_speed_kph',\n",
       " 'bowling_type_position_std_release_speed_kph',\n",
       " 'bowling_type_position_mean_swing_angle',\n",
       " 'bowling_type_position_std_swing_angle',\n",
       " 'bowling_type_position_mean_deviation',\n",
       " 'bowling_type_position_std_deviation',\n",
       " 'bowling_type_position_mean_release_position_y',\n",
       " 'bowling_type_position_std_release_position_y',\n",
       " 'bowling_type_position_mean_release_position_z',\n",
       " 'bowling_type_position_std_release_position_z',\n",
       " 'bowling_type_position_mean_bounce_position_y',\n",
       " 'bowling_type_position_std_bounce_position_y',\n",
       " 'bowling_type_position_mean_bounce_position_x',\n",
       " 'bowling_type_position_std_bounce_position_x',\n",
       " 'bowling_type_position_mean_crease_position_y',\n",
       " 'bowling_type_position_std_crease_position_y',\n",
       " 'bowling_type_position_mean_crease_position_z',\n",
       " 'bowling_type_position_std_crease_position_z',\n",
       " 'bowling_type_position_mean_stumps_position_y',\n",
       " 'bowling_type_position_std_stumps_position_y',\n",
       " 'bowling_type_position_mean_stumps_position_z',\n",
       " 'bowling_type_position_std_stumps_position_z',\n",
       " 'bowling_type_position_mean_bounce_velocity_ratio_z',\n",
       " 'bowling_type_position_std_bounce_velocity_ratio_z',\n",
       " 'bowling_type_position_mean_release_angle',\n",
       " 'bowling_type_position_std_release_angle',\n",
       " 'bowling_type_position_mean_drop_angle',\n",
       " 'bowling_type_position_std_drop_angle',\n",
       " 'bowling_type_position_mean_bounce_angle',\n",
       " 'bowling_type_position_std_bounce_angle',\n",
       " 'bowling_type_position_mean_runs',\n",
       " 'bowling_type_position_std_runs',\n",
       " 'bowling_type_position_mean_wicket',\n",
       " 'bowling_type_position_std_wicket',\n",
       " 'bowling_type_position_mean_absolute_swing_angle',\n",
       " 'bowling_type_position_std_absolute_swing_angle',\n",
       " 'bowling_type_position_mean_absolute_deviation',\n",
       " 'bowling_type_position_std_absolute_deviation',\n",
       " 'bowling_type_position_mean_handedness_interaction',\n",
       " 'bowling_type_position_std_handedness_interaction',\n",
       " 'delivery length_mean_release_speed_kph',\n",
       " 'delivery length_std_release_speed_kph',\n",
       " 'delivery length_mean_swing_angle',\n",
       " 'delivery length_std_swing_angle',\n",
       " 'delivery length_mean_deviation',\n",
       " 'delivery length_std_deviation',\n",
       " 'delivery length_mean_release_position_y',\n",
       " 'delivery length_std_release_position_y',\n",
       " 'delivery length_mean_release_position_z',\n",
       " 'delivery length_std_release_position_z',\n",
       " 'delivery length_mean_bounce_position_y',\n",
       " 'delivery length_std_bounce_position_y',\n",
       " 'delivery length_mean_bounce_position_x',\n",
       " 'delivery length_std_bounce_position_x',\n",
       " 'delivery length_mean_crease_position_y',\n",
       " 'delivery length_std_crease_position_y',\n",
       " 'delivery length_mean_crease_position_z',\n",
       " 'delivery length_std_crease_position_z',\n",
       " 'delivery length_mean_stumps_position_y',\n",
       " 'delivery length_std_stumps_position_y',\n",
       " 'delivery length_mean_stumps_position_z',\n",
       " 'delivery length_std_stumps_position_z',\n",
       " 'delivery length_mean_bounce_velocity_ratio_z',\n",
       " 'delivery length_std_bounce_velocity_ratio_z',\n",
       " 'delivery length_mean_release_angle',\n",
       " 'delivery length_std_release_angle',\n",
       " 'delivery length_mean_drop_angle',\n",
       " 'delivery length_std_drop_angle',\n",
       " 'delivery length_mean_bounce_angle',\n",
       " 'delivery length_std_bounce_angle',\n",
       " 'delivery length_mean_runs',\n",
       " 'delivery length_std_runs',\n",
       " 'delivery length_mean_wicket',\n",
       " 'delivery length_std_wicket',\n",
       " 'delivery length_mean_absolute_swing_angle',\n",
       " 'delivery length_std_absolute_swing_angle',\n",
       " 'delivery length_mean_absolute_deviation',\n",
       " 'delivery length_std_absolute_deviation',\n",
       " 'delivery length_mean_handedness_interaction',\n",
       " 'delivery length_std_handedness_interaction',\n",
       " 'delivery_line_mean_release_speed_kph',\n",
       " 'delivery_line_std_release_speed_kph',\n",
       " 'delivery_line_mean_swing_angle',\n",
       " 'delivery_line_std_swing_angle',\n",
       " 'delivery_line_mean_deviation',\n",
       " 'delivery_line_std_deviation',\n",
       " 'delivery_line_mean_release_position_y',\n",
       " 'delivery_line_std_release_position_y',\n",
       " 'delivery_line_mean_release_position_z',\n",
       " 'delivery_line_std_release_position_z',\n",
       " 'delivery_line_mean_bounce_position_y',\n",
       " 'delivery_line_std_bounce_position_y',\n",
       " 'delivery_line_mean_bounce_position_x',\n",
       " 'delivery_line_std_bounce_position_x',\n",
       " 'delivery_line_mean_crease_position_y',\n",
       " 'delivery_line_std_crease_position_y',\n",
       " 'delivery_line_mean_crease_position_z',\n",
       " 'delivery_line_std_crease_position_z',\n",
       " 'delivery_line_mean_stumps_position_y',\n",
       " 'delivery_line_std_stumps_position_y',\n",
       " 'delivery_line_mean_stumps_position_z',\n",
       " 'delivery_line_std_stumps_position_z',\n",
       " 'delivery_line_mean_bounce_velocity_ratio_z',\n",
       " 'delivery_line_std_bounce_velocity_ratio_z',\n",
       " 'delivery_line_mean_release_angle',\n",
       " 'delivery_line_std_release_angle',\n",
       " 'delivery_line_mean_drop_angle',\n",
       " 'delivery_line_std_drop_angle',\n",
       " 'delivery_line_mean_bounce_angle',\n",
       " 'delivery_line_std_bounce_angle',\n",
       " 'delivery_line_mean_runs',\n",
       " 'delivery_line_std_runs',\n",
       " 'delivery_line_mean_wicket',\n",
       " 'delivery_line_std_wicket',\n",
       " 'delivery_line_mean_absolute_swing_angle',\n",
       " 'delivery_line_std_absolute_swing_angle',\n",
       " 'delivery_line_mean_absolute_deviation',\n",
       " 'delivery_line_std_absolute_deviation',\n",
       " 'delivery_line_mean_handedness_interaction',\n",
       " 'delivery_line_std_handedness_interaction']"
      ]
     },
     "execution_count": 185,
     "metadata": {},
     "output_type": "execute_result"
    }
   ],
   "source": [
    "list(X_train.columns)"
   ]
  },
  {
   "cell_type": "markdown",
   "id": "4c40b37f-67b8-42a6-9a3c-46ed87002228",
   "metadata": {},
   "source": [
    "# First lets attempt a regression model once again"
   ]
  },
  {
   "cell_type": "code",
   "execution_count": 56,
   "id": "53661940-f2fe-4944-8686-d3b9b1747940",
   "metadata": {
    "scrolled": true
   },
   "outputs": [],
   "source": [
    "# Initialize XGBoost Regressor\n",
    "model = xgb.XGBRegressor(\n",
    "    max_depth=6,\n",
    "    n_estimators=100,\n",
    "    learning_rate=0.05,\n",
    "    objective='reg:absoluteerror',\n",
    "    random_state=42\n",
    ")\n",
    "# Train model\n",
    "model.fit(X_train, y_train, sample_weight=weights)\n",
    "\n",
    "# Predict and evaluate\n",
    "y_pred = model.predict(X_test)"
   ]
  },
  {
   "cell_type": "code",
   "execution_count": 57,
   "id": "2ad9b289-4f15-4ab0-851b-5866c9e93d3d",
   "metadata": {},
   "outputs": [],
   "source": [
    "pred_df = pd.DataFrame()\n",
    "pred_df['actual'] = y_test\n",
    "pred_df['pred'] = y_pred\n",
    "pred_df['pred'] = pred_df['pred'].round()\n",
    "pred_df['ape'] = abs(pred_df['actual']-pred_df['pred'])/pred_df['actual']\n",
    "pred_df['squared_error'] = (pred_df['actual'] - pred_df['pred']) ** 2"
   ]
  },
  {
   "cell_type": "code",
   "execution_count": 58,
   "id": "60cd767b-566b-47ee-9621-912bc8f7bead",
   "metadata": {},
   "outputs": [
    {
     "data": {
      "text/plain": [
       "actual\n",
       "1    15924\n",
       "0    14848\n",
       "4     4433\n",
       "2     2709\n",
       "6     2082\n",
       "3      152\n",
       "5       10\n",
       "Name: count, dtype: int64"
      ]
     },
     "execution_count": 58,
     "metadata": {},
     "output_type": "execute_result"
    }
   ],
   "source": [
    "pred_df['actual'].value_counts()"
   ]
  },
  {
   "cell_type": "code",
   "execution_count": 59,
   "id": "989b7d2f-e4fa-49d0-82d1-e09d164f0822",
   "metadata": {},
   "outputs": [
    {
     "data": {
      "text/plain": [
       "pred\n",
       "1.0    38773\n",
       "2.0      726\n",
       "0.0      369\n",
       "3.0      265\n",
       "4.0       25\n",
       "Name: count, dtype: int64"
      ]
     },
     "execution_count": 59,
     "metadata": {},
     "output_type": "execute_result"
    }
   ],
   "source": [
    "pred_df['pred'].value_counts()"
   ]
  },
  {
   "cell_type": "code",
   "execution_count": 60,
   "id": "57d3b2b2-4c82-470f-9318-19e291f85230",
   "metadata": {},
   "outputs": [
    {
     "data": {
      "text/plain": [
       "0.27761424996707496"
      ]
     },
     "execution_count": 60,
     "metadata": {},
     "output_type": "execute_result"
    }
   ],
   "source": [
    "pred_df[pred_df['actual']>0]['ape'].mean()"
   ]
  },
  {
   "cell_type": "markdown",
   "id": "627f9487-96fd-486f-b55a-38baa8b5cd57",
   "metadata": {},
   "source": [
    "# Regression model fails again. Lets try a classification model"
   ]
  },
  {
   "cell_type": "code",
   "execution_count": 186,
   "id": "9eba8bd5-c677-4b46-b265-73cc556d8057",
   "metadata": {},
   "outputs": [],
   "source": [
    "model = xgb.XGBClassifier(\n",
    "    max_depth=6,\n",
    "    n_estimators=500,\n",
    "    learning_rate=0.05,\n",
    "    objective='multi:softprob',  # Multi-class classification\n",
    "    random_state=42,\n",
    "    num_class=7,\n",
    "    reg_lambda=0.5, reg_alpha=0.1)\n",
    "\n",
    "# Train model\n",
    "model.fit(X_train, y_train,sample_weight=weights)\n",
    "\n",
    "# Predict and evaluate\n",
    "y_pred = model.predict(X_test)"
   ]
  },
  {
   "cell_type": "code",
   "execution_count": 187,
   "id": "ae34084f-7441-4b57-94e5-1f311ce73e7a",
   "metadata": {},
   "outputs": [],
   "source": [
    "from sklearn.metrics import accuracy_score, log_loss, roc_auc_score"
   ]
  },
  {
   "cell_type": "code",
   "execution_count": 190,
   "id": "40a9b4d3-8154-497e-b9ea-7b9ca681648d",
   "metadata": {},
   "outputs": [
    {
     "data": {
      "text/plain": [
       "0.43109716619353555"
      ]
     },
     "execution_count": 190,
     "metadata": {},
     "output_type": "execute_result"
    }
   ],
   "source": [
    "accuracy_score(y_test, y_pred)"
   ]
  },
  {
   "cell_type": "code",
   "execution_count": 191,
   "id": "88ad5cda-985c-4207-81e7-3c3471f62a92",
   "metadata": {},
   "outputs": [],
   "source": [
    "results_df = pd.DataFrame({\n",
    "    'Actual': y_test,\n",
    "    'Predicted': y_pred\n",
    "})"
   ]
  },
  {
   "cell_type": "code",
   "execution_count": 192,
   "id": "f2ba20df-0f6d-44d5-bf5d-7790315339aa",
   "metadata": {},
   "outputs": [
    {
     "data": {
      "text/plain": [
       "Actual\n",
       "1    15924\n",
       "0    14848\n",
       "4     4433\n",
       "2     2709\n",
       "6     2082\n",
       "3      152\n",
       "5       10\n",
       "Name: count, dtype: int64"
      ]
     },
     "execution_count": 192,
     "metadata": {},
     "output_type": "execute_result"
    }
   ],
   "source": [
    "results_df['Actual'].value_counts()"
   ]
  },
  {
   "cell_type": "code",
   "execution_count": 193,
   "id": "98be7cf5-0829-4ad4-b92e-187a32255dd5",
   "metadata": {},
   "outputs": [
    {
     "data": {
      "text/plain": [
       "Predicted\n",
       "1    19621\n",
       "0    13849\n",
       "4     6457\n",
       "6      225\n",
       "2        6\n",
       "Name: count, dtype: int64"
      ]
     },
     "execution_count": 193,
     "metadata": {},
     "output_type": "execute_result"
    }
   ],
   "source": [
    "results_df['Predicted'].value_counts()"
   ]
  },
  {
   "cell_type": "code",
   "execution_count": 194,
   "id": "92f3de44-f5c1-42bc-9b8d-0ea19c478532",
   "metadata": {},
   "outputs": [],
   "source": [
    "y_pred_prob = model.predict_proba(X_test)\n",
    "\n",
    "# Create a DataFrame with the probabilities\n",
    "probabilities_df = pd.DataFrame(y_pred_prob, columns=[f'Class_{i}' for i in range(7)])\n",
    "\n",
    "# Add the actual labels to the DataFrame\n",
    "probabilities_df['Actual'] = y_test.values"
   ]
  },
  {
   "cell_type": "code",
   "execution_count": 195,
   "id": "d9b7cd29-49d2-4d22-be42-12b8ad35c325",
   "metadata": {},
   "outputs": [
    {
     "data": {
      "text/html": [
       "<div>\n",
       "<style scoped>\n",
       "    .dataframe tbody tr th:only-of-type {\n",
       "        vertical-align: middle;\n",
       "    }\n",
       "\n",
       "    .dataframe tbody tr th {\n",
       "        vertical-align: top;\n",
       "    }\n",
       "\n",
       "    .dataframe thead th {\n",
       "        text-align: right;\n",
       "    }\n",
       "</style>\n",
       "<table border=\"1\" class=\"dataframe\">\n",
       "  <thead>\n",
       "    <tr style=\"text-align: right;\">\n",
       "      <th></th>\n",
       "      <th>Class_0</th>\n",
       "      <th>Class_1</th>\n",
       "      <th>Class_2</th>\n",
       "      <th>Class_3</th>\n",
       "      <th>Class_4</th>\n",
       "      <th>Class_5</th>\n",
       "      <th>Class_6</th>\n",
       "      <th>Actual</th>\n",
       "    </tr>\n",
       "  </thead>\n",
       "  <tbody>\n",
       "    <tr>\n",
       "      <th>0</th>\n",
       "      <td>0.162874</td>\n",
       "      <td>0.405109</td>\n",
       "      <td>0.080795</td>\n",
       "      <td>0.001529</td>\n",
       "      <td>0.185493</td>\n",
       "      <td>0.000283</td>\n",
       "      <td>0.163918</td>\n",
       "      <td>1</td>\n",
       "    </tr>\n",
       "    <tr>\n",
       "      <th>1</th>\n",
       "      <td>0.304190</td>\n",
       "      <td>0.272874</td>\n",
       "      <td>0.060802</td>\n",
       "      <td>0.002148</td>\n",
       "      <td>0.244817</td>\n",
       "      <td>0.000023</td>\n",
       "      <td>0.115145</td>\n",
       "      <td>4</td>\n",
       "    </tr>\n",
       "    <tr>\n",
       "      <th>2</th>\n",
       "      <td>0.309646</td>\n",
       "      <td>0.448564</td>\n",
       "      <td>0.058469</td>\n",
       "      <td>0.001037</td>\n",
       "      <td>0.108321</td>\n",
       "      <td>0.000025</td>\n",
       "      <td>0.073938</td>\n",
       "      <td>0</td>\n",
       "    </tr>\n",
       "    <tr>\n",
       "      <th>3</th>\n",
       "      <td>0.383489</td>\n",
       "      <td>0.151778</td>\n",
       "      <td>0.040790</td>\n",
       "      <td>0.001272</td>\n",
       "      <td>0.210027</td>\n",
       "      <td>0.000008</td>\n",
       "      <td>0.212636</td>\n",
       "      <td>0</td>\n",
       "    </tr>\n",
       "    <tr>\n",
       "      <th>4</th>\n",
       "      <td>0.288828</td>\n",
       "      <td>0.402787</td>\n",
       "      <td>0.058861</td>\n",
       "      <td>0.001154</td>\n",
       "      <td>0.108715</td>\n",
       "      <td>0.000005</td>\n",
       "      <td>0.139650</td>\n",
       "      <td>1</td>\n",
       "    </tr>\n",
       "    <tr>\n",
       "      <th>...</th>\n",
       "      <td>...</td>\n",
       "      <td>...</td>\n",
       "      <td>...</td>\n",
       "      <td>...</td>\n",
       "      <td>...</td>\n",
       "      <td>...</td>\n",
       "      <td>...</td>\n",
       "      <td>...</td>\n",
       "    </tr>\n",
       "    <tr>\n",
       "      <th>40153</th>\n",
       "      <td>0.300481</td>\n",
       "      <td>0.305969</td>\n",
       "      <td>0.059568</td>\n",
       "      <td>0.003247</td>\n",
       "      <td>0.239252</td>\n",
       "      <td>0.000189</td>\n",
       "      <td>0.091294</td>\n",
       "      <td>1</td>\n",
       "    </tr>\n",
       "    <tr>\n",
       "      <th>40154</th>\n",
       "      <td>0.154570</td>\n",
       "      <td>0.276933</td>\n",
       "      <td>0.105027</td>\n",
       "      <td>0.001727</td>\n",
       "      <td>0.246809</td>\n",
       "      <td>0.000015</td>\n",
       "      <td>0.214918</td>\n",
       "      <td>1</td>\n",
       "    </tr>\n",
       "    <tr>\n",
       "      <th>40155</th>\n",
       "      <td>0.561561</td>\n",
       "      <td>0.252489</td>\n",
       "      <td>0.070943</td>\n",
       "      <td>0.005691</td>\n",
       "      <td>0.085078</td>\n",
       "      <td>0.000005</td>\n",
       "      <td>0.024233</td>\n",
       "      <td>0</td>\n",
       "    </tr>\n",
       "    <tr>\n",
       "      <th>40156</th>\n",
       "      <td>0.314687</td>\n",
       "      <td>0.420867</td>\n",
       "      <td>0.063381</td>\n",
       "      <td>0.002181</td>\n",
       "      <td>0.100264</td>\n",
       "      <td>0.000003</td>\n",
       "      <td>0.098617</td>\n",
       "      <td>2</td>\n",
       "    </tr>\n",
       "    <tr>\n",
       "      <th>40157</th>\n",
       "      <td>0.335334</td>\n",
       "      <td>0.373199</td>\n",
       "      <td>0.045982</td>\n",
       "      <td>0.000871</td>\n",
       "      <td>0.083962</td>\n",
       "      <td>0.000004</td>\n",
       "      <td>0.160648</td>\n",
       "      <td>1</td>\n",
       "    </tr>\n",
       "  </tbody>\n",
       "</table>\n",
       "<p>40158 rows × 8 columns</p>\n",
       "</div>"
      ],
      "text/plain": [
       "        Class_0   Class_1   Class_2   Class_3   Class_4   Class_5   Class_6  \\\n",
       "0      0.162874  0.405109  0.080795  0.001529  0.185493  0.000283  0.163918   \n",
       "1      0.304190  0.272874  0.060802  0.002148  0.244817  0.000023  0.115145   \n",
       "2      0.309646  0.448564  0.058469  0.001037  0.108321  0.000025  0.073938   \n",
       "3      0.383489  0.151778  0.040790  0.001272  0.210027  0.000008  0.212636   \n",
       "4      0.288828  0.402787  0.058861  0.001154  0.108715  0.000005  0.139650   \n",
       "...         ...       ...       ...       ...       ...       ...       ...   \n",
       "40153  0.300481  0.305969  0.059568  0.003247  0.239252  0.000189  0.091294   \n",
       "40154  0.154570  0.276933  0.105027  0.001727  0.246809  0.000015  0.214918   \n",
       "40155  0.561561  0.252489  0.070943  0.005691  0.085078  0.000005  0.024233   \n",
       "40156  0.314687  0.420867  0.063381  0.002181  0.100264  0.000003  0.098617   \n",
       "40157  0.335334  0.373199  0.045982  0.000871  0.083962  0.000004  0.160648   \n",
       "\n",
       "       Actual  \n",
       "0           1  \n",
       "1           4  \n",
       "2           0  \n",
       "3           0  \n",
       "4           1  \n",
       "...       ...  \n",
       "40153       1  \n",
       "40154       1  \n",
       "40155       0  \n",
       "40156       2  \n",
       "40157       1  \n",
       "\n",
       "[40158 rows x 8 columns]"
      ]
     },
     "execution_count": 195,
     "metadata": {},
     "output_type": "execute_result"
    }
   ],
   "source": [
    "probabilities_df"
   ]
  },
  {
   "cell_type": "code",
   "execution_count": 196,
   "id": "c014e8b8-c633-4f7e-b14e-a88cf3d2a25d",
   "metadata": {},
   "outputs": [
    {
     "data": {
      "text/plain": [
       "1.3459475588605765"
      ]
     },
     "execution_count": 196,
     "metadata": {},
     "output_type": "execute_result"
    }
   ],
   "source": [
    "log_loss(y_test, y_pred_prob)"
   ]
  },
  {
   "cell_type": "code",
   "execution_count": 197,
   "id": "aa590854-708a-464a-9b06-4ce92c204555",
   "metadata": {},
   "outputs": [
    {
     "data": {
      "text/plain": [
       "0.6152205241658798"
      ]
     },
     "execution_count": 197,
     "metadata": {},
     "output_type": "execute_result"
    }
   ],
   "source": [
    "roc_auc_score(y_test, y_pred_prob, multi_class=\"ovr\")"
   ]
  },
  {
   "cell_type": "code",
   "execution_count": 198,
   "id": "d017f358-d4b1-4e73-a32d-e43c9948ba10",
   "metadata": {},
   "outputs": [
    {
     "name": "stdout",
     "output_type": "stream",
     "text": [
      "Variance of Target (Runs): 2.6579355760111505\n"
     ]
    }
   ],
   "source": [
    "target_variance = np.var(y_test)\n",
    "print(\"Variance of Target (Runs):\", target_variance)"
   ]
  },
  {
   "cell_type": "code",
   "execution_count": 199,
   "id": "a953c428-2859-4166-ada7-5c18473d12a4",
   "metadata": {},
   "outputs": [
    {
     "name": "stdout",
     "output_type": "stream",
     "text": [
      "Variance of Model Predictions: 1.904746090211457\n"
     ]
    }
   ],
   "source": [
    "predicted_variance = np.var(y_pred)\n",
    "print(\"Variance of Model Predictions:\", predicted_variance)"
   ]
  },
  {
   "cell_type": "code",
   "execution_count": 200,
   "id": "3347d2e8-9beb-4ea0-9703-f693852b44d1",
   "metadata": {},
   "outputs": [
    {
     "name": "stdout",
     "output_type": "stream",
     "text": [
      "Variance Ratio: 0.7166261317251229\n"
     ]
    }
   ],
   "source": [
    "variance_ratio = predicted_variance / target_variance\n",
    "print(\"Variance Ratio:\", variance_ratio)"
   ]
  },
  {
   "cell_type": "code",
   "execution_count": 201,
   "id": "08022dd7-940a-418b-a442-bd0d93e36a78",
   "metadata": {},
   "outputs": [
    {
     "name": "stderr",
     "output_type": "stream",
     "text": [
      "C:\\Users\\Vijay\\anaconda3\\Lib\\site-packages\\seaborn\\_oldcore.py:1119: FutureWarning: use_inf_as_na option is deprecated and will be removed in a future version. Convert inf values to NaN before operating instead.\n",
      "  with pd.option_context('mode.use_inf_as_na', True):\n",
      "C:\\Users\\Vijay\\anaconda3\\Lib\\site-packages\\seaborn\\_oldcore.py:1119: FutureWarning: use_inf_as_na option is deprecated and will be removed in a future version. Convert inf values to NaN before operating instead.\n",
      "  with pd.option_context('mode.use_inf_as_na', True):\n"
     ]
    },
    {
     "data": {
      "image/png": "[encoded data removed]",
      "text/plain": [
       "<Figure size 640x480 with 1 Axes>"
      ]
     },
     "metadata": {},
     "output_type": "display_data"
    }
   ],
   "source": [
    "sns.kdeplot(y_test, label='Actual Runs', fill=True)\n",
    "sns.kdeplot(y_pred, label='Predicted Runs', fill=True)\n",
    "plt.legend()\n",
    "plt.title(\"Distribution of Actual vs. Predicted Runs\")\n",
    "plt.show()"
   ]
  },
  {
   "cell_type": "markdown",
   "id": "b6083d15-f382-4112-8b0a-b3f9d51e8c52",
   "metadata": {},
   "source": [
    "# We have obtained slightly improved results for log loss and roc_auc_score. However, handling data imbalance is still proving to be a challenge"
   ]
  },
  {
   "cell_type": "markdown",
   "id": "cfd2e1b2-5e69-49c2-a1f9-514bb29eb99f",
   "metadata": {},
   "source": [
    "# Lets try oversampling techniques"
   ]
  },
  {
   "cell_type": "code",
   "execution_count": 777,
   "id": "7d0556da-235c-4482-8125-22178c03fa99",
   "metadata": {},
   "outputs": [],
   "source": [
    "from imblearn.over_sampling import SMOTE\n",
    "from collections import Counter"
   ]
  },
  {
   "cell_type": "code",
   "execution_count": 778,
   "id": "fdbabd7d-acf4-4322-9504-7a0b867768b7",
   "metadata": {},
   "outputs": [
    {
     "name": "stdout",
     "output_type": "stream",
     "text": [
      "Class distribution before SMOTE: Counter({1: 63177, 0: 59980, 4: 17862, 2: 10822, 6: 8136, 3: 628, 5: 26})\n"
     ]
    }
   ],
   "source": [
    "print(\"Class distribution before SMOTE:\", Counter(y_train))"
   ]
  },
  {
   "cell_type": "code",
   "execution_count": 779,
   "id": "2aaf1b88-7aa7-47d6-bb5a-53cecf55bf2e",
   "metadata": {},
   "outputs": [],
   "source": [
    "smote = SMOTE(sampling_strategy={0: 60000, 1: 63177, 2: 20000, 3:2000, 4:50000, 6:15000, 5:26}, random_state=42)"
   ]
  },
  {
   "cell_type": "code",
   "execution_count": 780,
   "id": "fd3771ce-d5f1-4049-b6d3-1270d091e59a",
   "metadata": {},
   "outputs": [],
   "source": [
    "X_train.fillna(X_train.median(numeric_only=True), inplace=True)"
   ]
  },
  {
   "cell_type": "code",
   "execution_count": 781,
   "id": "6f627271-4ecb-47ac-b6a0-a641a654074e",
   "metadata": {},
   "outputs": [],
   "source": [
    "X_resampled, y_resampled = smote.fit_resample(X_train, y_train)"
   ]
  },
  {
   "cell_type": "code",
   "execution_count": 557,
   "id": "c65692fd-e718-431d-a596-af987c291a06",
   "metadata": {},
   "outputs": [
    {
     "data": {
      "text/plain": [
       "Counter({1: 63177, 0: 60000, 4: 50000, 2: 20000, 6: 15000, 3: 2000, 5: 26})"
      ]
     },
     "execution_count": 557,
     "metadata": {},
     "output_type": "execute_result"
    }
   ],
   "source": [
    "Counter(y_resampled)"
   ]
  },
  {
   "cell_type": "code",
   "execution_count": 558,
   "id": "054a884c-94a6-4355-b51b-46ba1fba8b7c",
   "metadata": {},
   "outputs": [],
   "source": [
    "model = xgb.XGBClassifier(\n",
    "    max_depth=6,\n",
    "    n_estimators=400,\n",
    "    learning_rate=0.05,\n",
    "    objective='multi:softmax',  # Multi-class classification\n",
    "    random_state=42,\n",
    "    num_class=7 # Number of categories/classes (adjust as needed)\n",
    ")\n",
    "\n",
    "# Train model\n",
    "model.fit(X_resampled, y_resampled)\n",
    "\n",
    "# Predict and evaluate\n",
    "y_pred = model.predict(X_test)"
   ]
  },
  {
   "cell_type": "code",
   "execution_count": 559,
   "id": "c6ddc9d9-2ec6-430b-b0d1-576369ef5b5a",
   "metadata": {},
   "outputs": [
    {
     "data": {
      "text/plain": [
       "0.45151650978634394"
      ]
     },
     "execution_count": 559,
     "metadata": {},
     "output_type": "execute_result"
    }
   ],
   "source": [
    "accuracy_score(y_test, y_pred)"
   ]
  },
  {
   "cell_type": "code",
   "execution_count": 560,
   "id": "8ab807bd-1deb-448e-a891-c667e3b30ea0",
   "metadata": {},
   "outputs": [],
   "source": [
    "results_df = pd.DataFrame({\n",
    "    'Actual': y_test,\n",
    "    'Predicted': y_pred\n",
    "})"
   ]
  },
  {
   "cell_type": "code",
   "execution_count": 561,
   "id": "071ec948-800e-4513-b966-20ffa649c140",
   "metadata": {},
   "outputs": [
    {
     "data": {
      "text/plain": [
       "Actual\n",
       "1    15924\n",
       "0    14848\n",
       "4     4433\n",
       "2     2709\n",
       "6     2082\n",
       "3      152\n",
       "5       10\n",
       "Name: count, dtype: int64"
      ]
     },
     "execution_count": 561,
     "metadata": {},
     "output_type": "execute_result"
    }
   ],
   "source": [
    "results_df['Actual'].value_counts()"
   ]
  },
  {
   "cell_type": "code",
   "execution_count": 562,
   "id": "0ea322b7-5355-404c-b8f6-c40c5d323b38",
   "metadata": {},
   "outputs": [
    {
     "data": {
      "text/plain": [
       "Predicted\n",
       "1    22240\n",
       "0    16338\n",
       "4     1566\n",
       "6       11\n",
       "2        3\n",
       "Name: count, dtype: int64"
      ]
     },
     "execution_count": 562,
     "metadata": {},
     "output_type": "execute_result"
    }
   ],
   "source": [
    "results_df['Predicted'].value_counts()"
   ]
  },
  {
   "cell_type": "code",
   "execution_count": 563,
   "id": "1ba881c3-99fe-49ff-bf98-2aadbc636595",
   "metadata": {},
   "outputs": [],
   "source": [
    "y_pred_prob = model.predict_proba(X_test)\n",
    "\n",
    "# Create a DataFrame with the probabilities\n",
    "probabilities_df = pd.DataFrame(y_pred_prob, columns=[f'Class_{i}' for i in range(7)])\n",
    "\n",
    "# Add the actual labels to the DataFrame\n",
    "probabilities_df['Actual'] = y_test.values"
   ]
  },
  {
   "cell_type": "code",
   "execution_count": 566,
   "id": "28b6f923-6729-421a-a314-65af1da11c94",
   "metadata": {},
   "outputs": [
    {
     "data": {
      "text/html": [
       "<div>\n",
       "<style scoped>\n",
       "    .dataframe tbody tr th:only-of-type {\n",
       "        vertical-align: middle;\n",
       "    }\n",
       "\n",
       "    .dataframe tbody tr th {\n",
       "        vertical-align: top;\n",
       "    }\n",
       "\n",
       "    .dataframe thead th {\n",
       "        text-align: right;\n",
       "    }\n",
       "</style>\n",
       "<table border=\"1\" class=\"dataframe\">\n",
       "  <thead>\n",
       "    <tr style=\"text-align: right;\">\n",
       "      <th></th>\n",
       "      <th>Class_0</th>\n",
       "      <th>Class_1</th>\n",
       "      <th>Class_2</th>\n",
       "      <th>Class_3</th>\n",
       "      <th>Class_4</th>\n",
       "      <th>Class_5</th>\n",
       "      <th>Class_6</th>\n",
       "      <th>Actual</th>\n",
       "    </tr>\n",
       "  </thead>\n",
       "  <tbody>\n",
       "    <tr>\n",
       "      <th>0</th>\n",
       "      <td>0.199255</td>\n",
       "      <td>0.464925</td>\n",
       "      <td>0.090920</td>\n",
       "      <td>0.003498</td>\n",
       "      <td>0.160626</td>\n",
       "      <td>0.000585</td>\n",
       "      <td>0.080190</td>\n",
       "      <td>1</td>\n",
       "    </tr>\n",
       "    <tr>\n",
       "      <th>1</th>\n",
       "      <td>0.344659</td>\n",
       "      <td>0.272261</td>\n",
       "      <td>0.093162</td>\n",
       "      <td>0.011505</td>\n",
       "      <td>0.190524</td>\n",
       "      <td>0.000022</td>\n",
       "      <td>0.087867</td>\n",
       "      <td>4</td>\n",
       "    </tr>\n",
       "    <tr>\n",
       "      <th>2</th>\n",
       "      <td>0.345644</td>\n",
       "      <td>0.454195</td>\n",
       "      <td>0.067306</td>\n",
       "      <td>0.002749</td>\n",
       "      <td>0.074790</td>\n",
       "      <td>0.000025</td>\n",
       "      <td>0.055291</td>\n",
       "      <td>0</td>\n",
       "    </tr>\n",
       "    <tr>\n",
       "      <th>3</th>\n",
       "      <td>0.485799</td>\n",
       "      <td>0.189899</td>\n",
       "      <td>0.063160</td>\n",
       "      <td>0.006515</td>\n",
       "      <td>0.153957</td>\n",
       "      <td>0.000011</td>\n",
       "      <td>0.100659</td>\n",
       "      <td>0</td>\n",
       "    </tr>\n",
       "    <tr>\n",
       "      <th>4</th>\n",
       "      <td>0.336211</td>\n",
       "      <td>0.455144</td>\n",
       "      <td>0.070984</td>\n",
       "      <td>0.004042</td>\n",
       "      <td>0.065400</td>\n",
       "      <td>0.000013</td>\n",
       "      <td>0.068207</td>\n",
       "      <td>1</td>\n",
       "    </tr>\n",
       "    <tr>\n",
       "      <th>...</th>\n",
       "      <td>...</td>\n",
       "      <td>...</td>\n",
       "      <td>...</td>\n",
       "      <td>...</td>\n",
       "      <td>...</td>\n",
       "      <td>...</td>\n",
       "      <td>...</td>\n",
       "      <td>...</td>\n",
       "    </tr>\n",
       "    <tr>\n",
       "      <th>40153</th>\n",
       "      <td>0.339644</td>\n",
       "      <td>0.365486</td>\n",
       "      <td>0.065594</td>\n",
       "      <td>0.005772</td>\n",
       "      <td>0.174851</td>\n",
       "      <td>0.000204</td>\n",
       "      <td>0.048450</td>\n",
       "      <td>1</td>\n",
       "    </tr>\n",
       "    <tr>\n",
       "      <th>40154</th>\n",
       "      <td>0.206791</td>\n",
       "      <td>0.312284</td>\n",
       "      <td>0.143140</td>\n",
       "      <td>0.005145</td>\n",
       "      <td>0.228011</td>\n",
       "      <td>0.000028</td>\n",
       "      <td>0.104601</td>\n",
       "      <td>1</td>\n",
       "    </tr>\n",
       "    <tr>\n",
       "      <th>40155</th>\n",
       "      <td>0.455675</td>\n",
       "      <td>0.376431</td>\n",
       "      <td>0.079236</td>\n",
       "      <td>0.006478</td>\n",
       "      <td>0.066013</td>\n",
       "      <td>0.000011</td>\n",
       "      <td>0.016156</td>\n",
       "      <td>0</td>\n",
       "    </tr>\n",
       "    <tr>\n",
       "      <th>40156</th>\n",
       "      <td>0.351319</td>\n",
       "      <td>0.446202</td>\n",
       "      <td>0.070849</td>\n",
       "      <td>0.004261</td>\n",
       "      <td>0.080349</td>\n",
       "      <td>0.000009</td>\n",
       "      <td>0.047011</td>\n",
       "      <td>2</td>\n",
       "    </tr>\n",
       "    <tr>\n",
       "      <th>40157</th>\n",
       "      <td>0.380136</td>\n",
       "      <td>0.371181</td>\n",
       "      <td>0.048063</td>\n",
       "      <td>0.001808</td>\n",
       "      <td>0.098864</td>\n",
       "      <td>0.000010</td>\n",
       "      <td>0.099937</td>\n",
       "      <td>1</td>\n",
       "    </tr>\n",
       "  </tbody>\n",
       "</table>\n",
       "<p>40158 rows × 8 columns</p>\n",
       "</div>"
      ],
      "text/plain": [
       "        Class_0   Class_1   Class_2   Class_3   Class_4   Class_5   Class_6  \\\n",
       "0      0.199255  0.464925  0.090920  0.003498  0.160626  0.000585  0.080190   \n",
       "1      0.344659  0.272261  0.093162  0.011505  0.190524  0.000022  0.087867   \n",
       "2      0.345644  0.454195  0.067306  0.002749  0.074790  0.000025  0.055291   \n",
       "3      0.485799  0.189899  0.063160  0.006515  0.153957  0.000011  0.100659   \n",
       "4      0.336211  0.455144  0.070984  0.004042  0.065400  0.000013  0.068207   \n",
       "...         ...       ...       ...       ...       ...       ...       ...   \n",
       "40153  0.339644  0.365486  0.065594  0.005772  0.174851  0.000204  0.048450   \n",
       "40154  0.206791  0.312284  0.143140  0.005145  0.228011  0.000028  0.104601   \n",
       "40155  0.455675  0.376431  0.079236  0.006478  0.066013  0.000011  0.016156   \n",
       "40156  0.351319  0.446202  0.070849  0.004261  0.080349  0.000009  0.047011   \n",
       "40157  0.380136  0.371181  0.048063  0.001808  0.098864  0.000010  0.099937   \n",
       "\n",
       "       Actual  \n",
       "0           1  \n",
       "1           4  \n",
       "2           0  \n",
       "3           0  \n",
       "4           1  \n",
       "...       ...  \n",
       "40153       1  \n",
       "40154       1  \n",
       "40155       0  \n",
       "40156       2  \n",
       "40157       1  \n",
       "\n",
       "[40158 rows x 8 columns]"
      ]
     },
     "execution_count": 566,
     "metadata": {},
     "output_type": "execute_result"
    }
   ],
   "source": [
    "probabilities_df"
   ]
  },
  {
   "cell_type": "code",
   "execution_count": 564,
   "id": "720613c9-0955-4b21-a579-d025fe671e0a",
   "metadata": {},
   "outputs": [
    {
     "data": {
      "text/plain": [
       "1.3108723654721859"
      ]
     },
     "execution_count": 564,
     "metadata": {},
     "output_type": "execute_result"
    }
   ],
   "source": [
    "log_loss(y_test, y_pred_prob)"
   ]
  },
  {
   "cell_type": "code",
   "execution_count": 565,
   "id": "0822d462-28d9-4897-8c87-07b0c904943d",
   "metadata": {},
   "outputs": [
    {
     "data": {
      "text/plain": [
       "0.6091264372600527"
      ]
     },
     "execution_count": 565,
     "metadata": {},
     "output_type": "execute_result"
    }
   ],
   "source": [
    "roc_auc_score(y_test, y_pred_prob, multi_class=\"ovr\")"
   ]
  },
  {
   "cell_type": "markdown",
   "id": "3c40560f-b6c9-4da7-804e-bf1cd76cf36d",
   "metadata": {},
   "source": [
    "# Slightly improved results after oversampling"
   ]
  },
  {
   "cell_type": "markdown",
   "id": "05915447-81c1-4ee5-a4f5-acd38aee37e2",
   "metadata": {},
   "source": [
    "# Given the difficulty in predicting exact number of runs scored, it may be a better idea to predict by putting runs into bins - 0-1, 2-3, 4-6"
   ]
  },
  {
   "cell_type": "code",
   "execution_count": 743,
   "id": "f9e84cc7-c786-49ae-ba9f-5f560994429e",
   "metadata": {},
   "outputs": [],
   "source": [
    "df = pd.read_csv('data.csv')\n",
    "df['absolute_swing_angle'] = abs(df['swing_angle'])"
   ]
  },
  {
   "cell_type": "code",
   "execution_count": 744,
   "id": "8bb4be8a-1138-4765-827f-769580cbb299",
   "metadata": {},
   "outputs": [],
   "source": [
    "df = df[df['runs']!=5]"
   ]
  },
  {
   "cell_type": "code",
   "execution_count": 745,
   "id": "540f2f87-63c5-4ffd-843f-349b768cecb8",
   "metadata": {},
   "outputs": [],
   "source": [
    "labels = [0, 1, 2]  # Labels for the bins\n",
    "bins = [-1, 1, 3, 7]\n",
    "# Step 2: Convert 'runs' into categorical bins\n",
    "df['runs_binned'] = pd.cut(df['runs'], bins=bins, labels=labels, right=True)"
   ]
  },
  {
   "cell_type": "code",
   "execution_count": 746,
   "id": "0862e0c7-8244-42f1-9322-508b8caaa0a4",
   "metadata": {},
   "outputs": [
    {
     "data": {
      "text/plain": [
       "7         2\n",
       "33        2\n",
       "36        2\n",
       "49        2\n",
       "104       2\n",
       "         ..\n",
       "200769    2\n",
       "200772    2\n",
       "200773    2\n",
       "200782    2\n",
       "200783    2\n",
       "Name: runs_binned, Length: 22295, dtype: category\n",
       "Categories (3, int64): [0 < 1 < 2]"
      ]
     },
     "execution_count": 746,
     "metadata": {},
     "output_type": "execute_result"
    }
   ],
   "source": [
    "df[df['runs']==4]['runs_binned']"
   ]
  },
  {
   "cell_type": "code",
   "execution_count": 747,
   "id": "2e924029-1235-4080-9fd2-822eada54060",
   "metadata": {},
   "outputs": [],
   "source": [
    "target = 'runs'\n",
    "\n",
    "# Split into train & test (stratify if classification, otherwise just shuffle)\n",
    "train_df, test_df = train_test_split(df, test_size=0.2, random_state=42, shuffle=True)\n",
    "\n",
    "categorical_cols = df.select_dtypes(include=['object', 'category']).columns.tolist()\n",
    "continuous_cols = df.select_dtypes(include=['number']).columns.tolist()"
   ]
  },
  {
   "cell_type": "code",
   "execution_count": 748,
   "id": "e25a82d3-ed39-43cb-82aa-f72ad1d50bf1",
   "metadata": {},
   "outputs": [],
   "source": [
    "agg_dfs = []  # Store aggregated DataFrames\n",
    "\n",
    "# Loop through each categorical column and compute aggregates for all continuous variables\n",
    "for cat_col in categorical_cols[0:3]:\n",
    "    agg_df = train_df.groupby(cat_col)[continuous_cols].agg(['mean', 'std']).reset_index()\n",
    "\n",
    "    # Rename columns using the format categorical_metric_continuous\n",
    "    agg_df.columns = [f\"{cat_col}_{stat}_{col}\" if stat else col for col, stat in agg_df.columns]\n",
    "\n",
    "    # Merge back with train & test data\n",
    "    train_df = train_df.merge(agg_df, on=cat_col, how='left')\n",
    "    test_df = test_df.merge(agg_df, on=cat_col, how='left')  # Apply train mappings\n",
    "\n",
    "    agg_dfs.append(agg_df)  # Store for reference"
   ]
  },
  {
   "cell_type": "code",
   "execution_count": 749,
   "id": "840b2619-a0c0-4e22-86d5-f9f0d35616d9",
   "metadata": {},
   "outputs": [],
   "source": [
    "train_df.drop(['batting_hand','bowling_hand','bowling_type','wicket','runs'],axis=1,inplace=True)\n",
    "test_df.drop(['batting_hand','bowling_hand','bowling_type','wicket','runs'],axis=1,inplace=True)"
   ]
  },
  {
   "cell_type": "code",
   "execution_count": 750,
   "id": "4f018383-fd5e-4c41-8432-f9e6b263bb14",
   "metadata": {},
   "outputs": [
    {
     "data": {
      "text/html": [
       "<div>\n",
       "<style scoped>\n",
       "    .dataframe tbody tr th:only-of-type {\n",
       "        vertical-align: middle;\n",
       "    }\n",
       "\n",
       "    .dataframe tbody tr th {\n",
       "        vertical-align: top;\n",
       "    }\n",
       "\n",
       "    .dataframe thead th {\n",
       "        text-align: right;\n",
       "    }\n",
       "</style>\n",
       "<table border=\"1\" class=\"dataframe\">\n",
       "  <thead>\n",
       "    <tr style=\"text-align: right;\">\n",
       "      <th></th>\n",
       "      <th>release_speed_kph</th>\n",
       "      <th>swing_angle</th>\n",
       "      <th>deviation</th>\n",
       "      <th>release_position_y</th>\n",
       "      <th>release_position_z</th>\n",
       "      <th>bounce_position_y</th>\n",
       "      <th>bounce_position_x</th>\n",
       "      <th>crease_position_y</th>\n",
       "      <th>crease_position_z</th>\n",
       "      <th>stumps_position_y</th>\n",
       "      <th>...</th>\n",
       "      <th>bowling_type_mean_drop_angle</th>\n",
       "      <th>bowling_type_std_drop_angle</th>\n",
       "      <th>bowling_type_mean_bounce_angle</th>\n",
       "      <th>bowling_type_std_bounce_angle</th>\n",
       "      <th>bowling_type_mean_runs</th>\n",
       "      <th>bowling_type_std_runs</th>\n",
       "      <th>bowling_type_mean_wicket</th>\n",
       "      <th>bowling_type_std_wicket</th>\n",
       "      <th>bowling_type_mean_absolute_swing_angle</th>\n",
       "      <th>bowling_type_std_absolute_swing_angle</th>\n",
       "    </tr>\n",
       "  </thead>\n",
       "  <tbody>\n",
       "    <tr>\n",
       "      <th>0</th>\n",
       "      <td>93.13</td>\n",
       "      <td>-0.25</td>\n",
       "      <td>1.75</td>\n",
       "      <td>-0.35</td>\n",
       "      <td>2.11</td>\n",
       "      <td>-0.15</td>\n",
       "      <td>5.27</td>\n",
       "      <td>0.03</td>\n",
       "      <td>0.52</td>\n",
       "      <td>0.08</td>\n",
       "      <td>...</td>\n",
       "      <td>-15.802796</td>\n",
       "      <td>1.495039</td>\n",
       "      <td>11.263709</td>\n",
       "      <td>2.013999</td>\n",
       "      <td>1.213888</td>\n",
       "      <td>1.566961</td>\n",
       "      <td>0.046169</td>\n",
       "      <td>0.209852</td>\n",
       "      <td>1.197008</td>\n",
       "      <td>0.911241</td>\n",
       "    </tr>\n",
       "    <tr>\n",
       "      <th>1</th>\n",
       "      <td>94.38</td>\n",
       "      <td>1.70</td>\n",
       "      <td>-3.64</td>\n",
       "      <td>-0.89</td>\n",
       "      <td>2.05</td>\n",
       "      <td>-0.40</td>\n",
       "      <td>6.13</td>\n",
       "      <td>-0.44</td>\n",
       "      <td>0.69</td>\n",
       "      <td>-0.45</td>\n",
       "      <td>...</td>\n",
       "      <td>-15.802796</td>\n",
       "      <td>1.495039</td>\n",
       "      <td>11.263709</td>\n",
       "      <td>2.013999</td>\n",
       "      <td>1.213888</td>\n",
       "      <td>1.566961</td>\n",
       "      <td>0.046169</td>\n",
       "      <td>0.209852</td>\n",
       "      <td>1.197008</td>\n",
       "      <td>0.911241</td>\n",
       "    </tr>\n",
       "    <tr>\n",
       "      <th>2</th>\n",
       "      <td>99.47</td>\n",
       "      <td>1.28</td>\n",
       "      <td>-0.85</td>\n",
       "      <td>-0.82</td>\n",
       "      <td>2.08</td>\n",
       "      <td>0.21</td>\n",
       "      <td>3.58</td>\n",
       "      <td>0.37</td>\n",
       "      <td>0.29</td>\n",
       "      <td>0.46</td>\n",
       "      <td>...</td>\n",
       "      <td>-15.802796</td>\n",
       "      <td>1.495039</td>\n",
       "      <td>11.263709</td>\n",
       "      <td>2.013999</td>\n",
       "      <td>1.213888</td>\n",
       "      <td>1.566961</td>\n",
       "      <td>0.046169</td>\n",
       "      <td>0.209852</td>\n",
       "      <td>1.197008</td>\n",
       "      <td>0.911241</td>\n",
       "    </tr>\n",
       "    <tr>\n",
       "      <th>3</th>\n",
       "      <td>87.52</td>\n",
       "      <td>1.63</td>\n",
       "      <td>-1.77</td>\n",
       "      <td>-1.03</td>\n",
       "      <td>2.15</td>\n",
       "      <td>-0.12</td>\n",
       "      <td>5.08</td>\n",
       "      <td>0.09</td>\n",
       "      <td>0.58</td>\n",
       "      <td>0.15</td>\n",
       "      <td>...</td>\n",
       "      <td>-15.802796</td>\n",
       "      <td>1.495039</td>\n",
       "      <td>11.263709</td>\n",
       "      <td>2.013999</td>\n",
       "      <td>1.213888</td>\n",
       "      <td>1.566961</td>\n",
       "      <td>0.046169</td>\n",
       "      <td>0.209852</td>\n",
       "      <td>1.197008</td>\n",
       "      <td>0.911241</td>\n",
       "    </tr>\n",
       "    <tr>\n",
       "      <th>4</th>\n",
       "      <td>113.78</td>\n",
       "      <td>0.15</td>\n",
       "      <td>0.60</td>\n",
       "      <td>-0.37</td>\n",
       "      <td>1.89</td>\n",
       "      <td>-0.23</td>\n",
       "      <td>7.82</td>\n",
       "      <td>-0.05</td>\n",
       "      <td>0.75</td>\n",
       "      <td>-0.02</td>\n",
       "      <td>...</td>\n",
       "      <td>-12.807037</td>\n",
       "      <td>2.492796</td>\n",
       "      <td>8.507546</td>\n",
       "      <td>1.772024</td>\n",
       "      <td>1.331289</td>\n",
       "      <td>1.656683</td>\n",
       "      <td>0.052162</td>\n",
       "      <td>0.222356</td>\n",
       "      <td>0.739567</td>\n",
       "      <td>0.751593</td>\n",
       "    </tr>\n",
       "    <tr>\n",
       "      <th>...</th>\n",
       "      <td>...</td>\n",
       "      <td>...</td>\n",
       "      <td>...</td>\n",
       "      <td>...</td>\n",
       "      <td>...</td>\n",
       "      <td>...</td>\n",
       "      <td>...</td>\n",
       "      <td>...</td>\n",
       "      <td>...</td>\n",
       "      <td>...</td>\n",
       "      <td>...</td>\n",
       "      <td>...</td>\n",
       "      <td>...</td>\n",
       "      <td>...</td>\n",
       "      <td>...</td>\n",
       "      <td>...</td>\n",
       "      <td>...</td>\n",
       "      <td>...</td>\n",
       "      <td>...</td>\n",
       "      <td>...</td>\n",
       "      <td>...</td>\n",
       "    </tr>\n",
       "    <tr>\n",
       "      <th>160597</th>\n",
       "      <td>136.46</td>\n",
       "      <td>-0.70</td>\n",
       "      <td>0.47</td>\n",
       "      <td>1.22</td>\n",
       "      <td>1.86</td>\n",
       "      <td>0.77</td>\n",
       "      <td>6.83</td>\n",
       "      <td>0.56</td>\n",
       "      <td>0.54</td>\n",
       "      <td>0.51</td>\n",
       "      <td>...</td>\n",
       "      <td>-12.807037</td>\n",
       "      <td>2.492796</td>\n",
       "      <td>8.507546</td>\n",
       "      <td>1.772024</td>\n",
       "      <td>1.331289</td>\n",
       "      <td>1.656683</td>\n",
       "      <td>0.052162</td>\n",
       "      <td>0.222356</td>\n",
       "      <td>0.739567</td>\n",
       "      <td>0.751593</td>\n",
       "    </tr>\n",
       "    <tr>\n",
       "      <th>160598</th>\n",
       "      <td>122.26</td>\n",
       "      <td>0.48</td>\n",
       "      <td>-1.83</td>\n",
       "      <td>0.42</td>\n",
       "      <td>1.98</td>\n",
       "      <td>0.25</td>\n",
       "      <td>8.81</td>\n",
       "      <td>-0.10</td>\n",
       "      <td>0.68</td>\n",
       "      <td>-0.16</td>\n",
       "      <td>...</td>\n",
       "      <td>-12.807037</td>\n",
       "      <td>2.492796</td>\n",
       "      <td>8.507546</td>\n",
       "      <td>1.772024</td>\n",
       "      <td>1.331289</td>\n",
       "      <td>1.656683</td>\n",
       "      <td>0.052162</td>\n",
       "      <td>0.222356</td>\n",
       "      <td>0.739567</td>\n",
       "      <td>0.751593</td>\n",
       "    </tr>\n",
       "    <tr>\n",
       "      <th>160599</th>\n",
       "      <td>112.34</td>\n",
       "      <td>0.43</td>\n",
       "      <td>-0.47</td>\n",
       "      <td>-0.78</td>\n",
       "      <td>1.95</td>\n",
       "      <td>-0.74</td>\n",
       "      <td>10.38</td>\n",
       "      <td>-0.80</td>\n",
       "      <td>0.90</td>\n",
       "      <td>-0.82</td>\n",
       "      <td>...</td>\n",
       "      <td>-12.807037</td>\n",
       "      <td>2.492796</td>\n",
       "      <td>8.507546</td>\n",
       "      <td>1.772024</td>\n",
       "      <td>1.331289</td>\n",
       "      <td>1.656683</td>\n",
       "      <td>0.052162</td>\n",
       "      <td>0.222356</td>\n",
       "      <td>0.739567</td>\n",
       "      <td>0.751593</td>\n",
       "    </tr>\n",
       "    <tr>\n",
       "      <th>160600</th>\n",
       "      <td>104.28</td>\n",
       "      <td>-0.17</td>\n",
       "      <td>2.62</td>\n",
       "      <td>-0.94</td>\n",
       "      <td>2.04</td>\n",
       "      <td>0.05</td>\n",
       "      <td>2.87</td>\n",
       "      <td>0.23</td>\n",
       "      <td>0.37</td>\n",
       "      <td>0.36</td>\n",
       "      <td>...</td>\n",
       "      <td>-12.807037</td>\n",
       "      <td>2.492796</td>\n",
       "      <td>8.507546</td>\n",
       "      <td>1.772024</td>\n",
       "      <td>1.331289</td>\n",
       "      <td>1.656683</td>\n",
       "      <td>0.052162</td>\n",
       "      <td>0.222356</td>\n",
       "      <td>0.739567</td>\n",
       "      <td>0.751593</td>\n",
       "    </tr>\n",
       "    <tr>\n",
       "      <th>160601</th>\n",
       "      <td>82.50</td>\n",
       "      <td>-1.38</td>\n",
       "      <td>-2.54</td>\n",
       "      <td>-0.49</td>\n",
       "      <td>2.17</td>\n",
       "      <td>0.07</td>\n",
       "      <td>3.26</td>\n",
       "      <td>0.03</td>\n",
       "      <td>0.48</td>\n",
       "      <td>0.00</td>\n",
       "      <td>...</td>\n",
       "      <td>-15.802796</td>\n",
       "      <td>1.495039</td>\n",
       "      <td>11.263709</td>\n",
       "      <td>2.013999</td>\n",
       "      <td>1.213888</td>\n",
       "      <td>1.566961</td>\n",
       "      <td>0.046169</td>\n",
       "      <td>0.209852</td>\n",
       "      <td>1.197008</td>\n",
       "      <td>0.911241</td>\n",
       "    </tr>\n",
       "  </tbody>\n",
       "</table>\n",
       "<p>160602 rows × 125 columns</p>\n",
       "</div>"
      ],
      "text/plain": [
       "        release_speed_kph  swing_angle  deviation  release_position_y  \\\n",
       "0                   93.13        -0.25       1.75               -0.35   \n",
       "1                   94.38         1.70      -3.64               -0.89   \n",
       "2                   99.47         1.28      -0.85               -0.82   \n",
       "3                   87.52         1.63      -1.77               -1.03   \n",
       "4                  113.78         0.15       0.60               -0.37   \n",
       "...                   ...          ...        ...                 ...   \n",
       "160597             136.46        -0.70       0.47                1.22   \n",
       "160598             122.26         0.48      -1.83                0.42   \n",
       "160599             112.34         0.43      -0.47               -0.78   \n",
       "160600             104.28        -0.17       2.62               -0.94   \n",
       "160601              82.50        -1.38      -2.54               -0.49   \n",
       "\n",
       "        release_position_z  bounce_position_y  bounce_position_x  \\\n",
       "0                     2.11              -0.15               5.27   \n",
       "1                     2.05              -0.40               6.13   \n",
       "2                     2.08               0.21               3.58   \n",
       "3                     2.15              -0.12               5.08   \n",
       "4                     1.89              -0.23               7.82   \n",
       "...                    ...                ...                ...   \n",
       "160597                1.86               0.77               6.83   \n",
       "160598                1.98               0.25               8.81   \n",
       "160599                1.95              -0.74              10.38   \n",
       "160600                2.04               0.05               2.87   \n",
       "160601                2.17               0.07               3.26   \n",
       "\n",
       "        crease_position_y  crease_position_z  stumps_position_y  ...  \\\n",
       "0                    0.03               0.52               0.08  ...   \n",
       "1                   -0.44               0.69              -0.45  ...   \n",
       "2                    0.37               0.29               0.46  ...   \n",
       "3                    0.09               0.58               0.15  ...   \n",
       "4                   -0.05               0.75              -0.02  ...   \n",
       "...                   ...                ...                ...  ...   \n",
       "160597               0.56               0.54               0.51  ...   \n",
       "160598              -0.10               0.68              -0.16  ...   \n",
       "160599              -0.80               0.90              -0.82  ...   \n",
       "160600               0.23               0.37               0.36  ...   \n",
       "160601               0.03               0.48               0.00  ...   \n",
       "\n",
       "        bowling_type_mean_drop_angle  bowling_type_std_drop_angle  \\\n",
       "0                         -15.802796                     1.495039   \n",
       "1                         -15.802796                     1.495039   \n",
       "2                         -15.802796                     1.495039   \n",
       "3                         -15.802796                     1.495039   \n",
       "4                         -12.807037                     2.492796   \n",
       "...                              ...                          ...   \n",
       "160597                    -12.807037                     2.492796   \n",
       "160598                    -12.807037                     2.492796   \n",
       "160599                    -12.807037                     2.492796   \n",
       "160600                    -12.807037                     2.492796   \n",
       "160601                    -15.802796                     1.495039   \n",
       "\n",
       "        bowling_type_mean_bounce_angle  bowling_type_std_bounce_angle  \\\n",
       "0                            11.263709                       2.013999   \n",
       "1                            11.263709                       2.013999   \n",
       "2                            11.263709                       2.013999   \n",
       "3                            11.263709                       2.013999   \n",
       "4                             8.507546                       1.772024   \n",
       "...                                ...                            ...   \n",
       "160597                        8.507546                       1.772024   \n",
       "160598                        8.507546                       1.772024   \n",
       "160599                        8.507546                       1.772024   \n",
       "160600                        8.507546                       1.772024   \n",
       "160601                       11.263709                       2.013999   \n",
       "\n",
       "        bowling_type_mean_runs  bowling_type_std_runs  \\\n",
       "0                     1.213888               1.566961   \n",
       "1                     1.213888               1.566961   \n",
       "2                     1.213888               1.566961   \n",
       "3                     1.213888               1.566961   \n",
       "4                     1.331289               1.656683   \n",
       "...                        ...                    ...   \n",
       "160597                1.331289               1.656683   \n",
       "160598                1.331289               1.656683   \n",
       "160599                1.331289               1.656683   \n",
       "160600                1.331289               1.656683   \n",
       "160601                1.213888               1.566961   \n",
       "\n",
       "       bowling_type_mean_wicket  bowling_type_std_wicket  \\\n",
       "0                      0.046169                 0.209852   \n",
       "1                      0.046169                 0.209852   \n",
       "2                      0.046169                 0.209852   \n",
       "3                      0.046169                 0.209852   \n",
       "4                      0.052162                 0.222356   \n",
       "...                         ...                      ...   \n",
       "160597                 0.052162                 0.222356   \n",
       "160598                 0.052162                 0.222356   \n",
       "160599                 0.052162                 0.222356   \n",
       "160600                 0.052162                 0.222356   \n",
       "160601                 0.046169                 0.209852   \n",
       "\n",
       "        bowling_type_mean_absolute_swing_angle  \\\n",
       "0                                     1.197008   \n",
       "1                                     1.197008   \n",
       "2                                     1.197008   \n",
       "3                                     1.197008   \n",
       "4                                     0.739567   \n",
       "...                                        ...   \n",
       "160597                                0.739567   \n",
       "160598                                0.739567   \n",
       "160599                                0.739567   \n",
       "160600                                0.739567   \n",
       "160601                                1.197008   \n",
       "\n",
       "        bowling_type_std_absolute_swing_angle  \n",
       "0                                    0.911241  \n",
       "1                                    0.911241  \n",
       "2                                    0.911241  \n",
       "3                                    0.911241  \n",
       "4                                    0.751593  \n",
       "...                                       ...  \n",
       "160597                               0.751593  \n",
       "160598                               0.751593  \n",
       "160599                               0.751593  \n",
       "160600                               0.751593  \n",
       "160601                               0.911241  \n",
       "\n",
       "[160602 rows x 125 columns]"
      ]
     },
     "execution_count": 750,
     "metadata": {},
     "output_type": "execute_result"
    }
   ],
   "source": [
    "train_df"
   ]
  },
  {
   "cell_type": "code",
   "execution_count": 751,
   "id": "62a96795-8c7c-43f7-814d-080aef00b84f",
   "metadata": {},
   "outputs": [],
   "source": [
    "y_train = train_df.pop('runs_binned')\n",
    "X_train = train_df.copy()\n",
    "y_test = test_df.pop('runs_binned')\n",
    "X_test = test_df.copy()"
   ]
  },
  {
   "cell_type": "code",
   "execution_count": 752,
   "id": "d7eb56e4-c86e-4374-b523-a7c674d41e73",
   "metadata": {},
   "outputs": [
    {
     "data": {
      "text/plain": [
       "['release_speed_kph',\n",
       " 'swing_angle',\n",
       " 'deviation',\n",
       " 'release_position_y',\n",
       " 'release_position_z',\n",
       " 'bounce_position_y',\n",
       " 'bounce_position_x',\n",
       " 'crease_position_y',\n",
       " 'crease_position_z',\n",
       " 'stumps_position_y',\n",
       " 'stumps_position_z',\n",
       " 'bounce_velocity_ratio_z',\n",
       " 'release_angle',\n",
       " 'drop_angle',\n",
       " 'bounce_angle',\n",
       " 'absolute_swing_angle',\n",
       " 'batting_hand_mean_release_speed_kph',\n",
       " 'batting_hand_std_release_speed_kph',\n",
       " 'batting_hand_mean_swing_angle',\n",
       " 'batting_hand_std_swing_angle',\n",
       " 'batting_hand_mean_deviation',\n",
       " 'batting_hand_std_deviation',\n",
       " 'batting_hand_mean_release_position_y',\n",
       " 'batting_hand_std_release_position_y',\n",
       " 'batting_hand_mean_release_position_z',\n",
       " 'batting_hand_std_release_position_z',\n",
       " 'batting_hand_mean_bounce_position_y',\n",
       " 'batting_hand_std_bounce_position_y',\n",
       " 'batting_hand_mean_bounce_position_x',\n",
       " 'batting_hand_std_bounce_position_x',\n",
       " 'batting_hand_mean_crease_position_y',\n",
       " 'batting_hand_std_crease_position_y',\n",
       " 'batting_hand_mean_crease_position_z',\n",
       " 'batting_hand_std_crease_position_z',\n",
       " 'batting_hand_mean_stumps_position_y',\n",
       " 'batting_hand_std_stumps_position_y',\n",
       " 'batting_hand_mean_stumps_position_z',\n",
       " 'batting_hand_std_stumps_position_z',\n",
       " 'batting_hand_mean_bounce_velocity_ratio_z',\n",
       " 'batting_hand_std_bounce_velocity_ratio_z',\n",
       " 'batting_hand_mean_release_angle',\n",
       " 'batting_hand_std_release_angle',\n",
       " 'batting_hand_mean_drop_angle',\n",
       " 'batting_hand_std_drop_angle',\n",
       " 'batting_hand_mean_bounce_angle',\n",
       " 'batting_hand_std_bounce_angle',\n",
       " 'batting_hand_mean_runs',\n",
       " 'batting_hand_std_runs',\n",
       " 'batting_hand_mean_wicket',\n",
       " 'batting_hand_std_wicket',\n",
       " 'batting_hand_mean_absolute_swing_angle',\n",
       " 'batting_hand_std_absolute_swing_angle',\n",
       " 'bowling_hand_mean_release_speed_kph',\n",
       " 'bowling_hand_std_release_speed_kph',\n",
       " 'bowling_hand_mean_swing_angle',\n",
       " 'bowling_hand_std_swing_angle',\n",
       " 'bowling_hand_mean_deviation',\n",
       " 'bowling_hand_std_deviation',\n",
       " 'bowling_hand_mean_release_position_y',\n",
       " 'bowling_hand_std_release_position_y',\n",
       " 'bowling_hand_mean_release_position_z',\n",
       " 'bowling_hand_std_release_position_z',\n",
       " 'bowling_hand_mean_bounce_position_y',\n",
       " 'bowling_hand_std_bounce_position_y',\n",
       " 'bowling_hand_mean_bounce_position_x',\n",
       " 'bowling_hand_std_bounce_position_x',\n",
       " 'bowling_hand_mean_crease_position_y',\n",
       " 'bowling_hand_std_crease_position_y',\n",
       " 'bowling_hand_mean_crease_position_z',\n",
       " 'bowling_hand_std_crease_position_z',\n",
       " 'bowling_hand_mean_stumps_position_y',\n",
       " 'bowling_hand_std_stumps_position_y',\n",
       " 'bowling_hand_mean_stumps_position_z',\n",
       " 'bowling_hand_std_stumps_position_z',\n",
       " 'bowling_hand_mean_bounce_velocity_ratio_z',\n",
       " 'bowling_hand_std_bounce_velocity_ratio_z',\n",
       " 'bowling_hand_mean_release_angle',\n",
       " 'bowling_hand_std_release_angle',\n",
       " 'bowling_hand_mean_drop_angle',\n",
       " 'bowling_hand_std_drop_angle',\n",
       " 'bowling_hand_mean_bounce_angle',\n",
       " 'bowling_hand_std_bounce_angle',\n",
       " 'bowling_hand_mean_runs',\n",
       " 'bowling_hand_std_runs',\n",
       " 'bowling_hand_mean_wicket',\n",
       " 'bowling_hand_std_wicket',\n",
       " 'bowling_hand_mean_absolute_swing_angle',\n",
       " 'bowling_hand_std_absolute_swing_angle',\n",
       " 'bowling_type_mean_release_speed_kph',\n",
       " 'bowling_type_std_release_speed_kph',\n",
       " 'bowling_type_mean_swing_angle',\n",
       " 'bowling_type_std_swing_angle',\n",
       " 'bowling_type_mean_deviation',\n",
       " 'bowling_type_std_deviation',\n",
       " 'bowling_type_mean_release_position_y',\n",
       " 'bowling_type_std_release_position_y',\n",
       " 'bowling_type_mean_release_position_z',\n",
       " 'bowling_type_std_release_position_z',\n",
       " 'bowling_type_mean_bounce_position_y',\n",
       " 'bowling_type_std_bounce_position_y',\n",
       " 'bowling_type_mean_bounce_position_x',\n",
       " 'bowling_type_std_bounce_position_x',\n",
       " 'bowling_type_mean_crease_position_y',\n",
       " 'bowling_type_std_crease_position_y',\n",
       " 'bowling_type_mean_crease_position_z',\n",
       " 'bowling_type_std_crease_position_z',\n",
       " 'bowling_type_mean_stumps_position_y',\n",
       " 'bowling_type_std_stumps_position_y',\n",
       " 'bowling_type_mean_stumps_position_z',\n",
       " 'bowling_type_std_stumps_position_z',\n",
       " 'bowling_type_mean_bounce_velocity_ratio_z',\n",
       " 'bowling_type_std_bounce_velocity_ratio_z',\n",
       " 'bowling_type_mean_release_angle',\n",
       " 'bowling_type_std_release_angle',\n",
       " 'bowling_type_mean_drop_angle',\n",
       " 'bowling_type_std_drop_angle',\n",
       " 'bowling_type_mean_bounce_angle',\n",
       " 'bowling_type_std_bounce_angle',\n",
       " 'bowling_type_mean_runs',\n",
       " 'bowling_type_std_runs',\n",
       " 'bowling_type_mean_wicket',\n",
       " 'bowling_type_std_wicket',\n",
       " 'bowling_type_mean_absolute_swing_angle',\n",
       " 'bowling_type_std_absolute_swing_angle']"
      ]
     },
     "execution_count": 752,
     "metadata": {},
     "output_type": "execute_result"
    }
   ],
   "source": [
    "list(X_train.columns)"
   ]
  },
  {
   "cell_type": "code",
   "execution_count": 753,
   "id": "d5452cfd-6f26-44c2-932e-e90dd990e2c7",
   "metadata": {},
   "outputs": [],
   "source": [
    "model = xgb.XGBClassifier(\n",
    "    max_depth=6,\n",
    "    n_estimators=400,\n",
    "    learning_rate=0.05,\n",
    "    objective='multi:softmax',  # Multi-class classification\n",
    "    random_state=42,\n",
    "    num_class=3# Number of categories/classes (adjust as needed)\n",
    ")\n",
    "\n",
    "# Train model\n",
    "model.fit(X_train, y_train)\n",
    "\n",
    "# Predict and evaluate\n",
    "y_pred = model.predict(X_test)"
   ]
  },
  {
   "cell_type": "code",
   "execution_count": 754,
   "id": "4b7ffd31-c267-417b-8601-8ea497155a47",
   "metadata": {},
   "outputs": [
    {
     "data": {
      "text/plain": [
       "0.7630196010062016"
      ]
     },
     "execution_count": 754,
     "metadata": {},
     "output_type": "execute_result"
    }
   ],
   "source": [
    "accuracy_score(y_test, y_pred)"
   ]
  },
  {
   "cell_type": "code",
   "execution_count": 755,
   "id": "76b27f73-1e58-4d31-98a0-8a6cec1867bd",
   "metadata": {},
   "outputs": [],
   "source": [
    "results_df = pd.DataFrame({\n",
    "    'Actual': y_test,\n",
    "    'Predicted': y_pred\n",
    "})"
   ]
  },
  {
   "cell_type": "code",
   "execution_count": 756,
   "id": "249af6dd-ac60-4e98-ac4b-1da96ca360b8",
   "metadata": {},
   "outputs": [
    {
     "data": {
      "text/plain": [
       "Actual\n",
       "0    30640\n",
       "2     6565\n",
       "1     2946\n",
       "Name: count, dtype: int64"
      ]
     },
     "execution_count": 756,
     "metadata": {},
     "output_type": "execute_result"
    }
   ],
   "source": [
    "results_df['Actual'].value_counts()"
   ]
  },
  {
   "cell_type": "code",
   "execution_count": 757,
   "id": "f2956bb3-2b42-4535-88ed-0ca14116c4df",
   "metadata": {},
   "outputs": [
    {
     "data": {
      "text/plain": [
       "Predicted\n",
       "0    40127\n",
       "2       24\n",
       "Name: count, dtype: int64"
      ]
     },
     "execution_count": 757,
     "metadata": {},
     "output_type": "execute_result"
    }
   ],
   "source": [
    "results_df['Predicted'].value_counts()"
   ]
  },
  {
   "cell_type": "markdown",
   "id": "4b36c020-168c-45f9-af11-96e0deb0dd71",
   "metadata": {},
   "source": [
    "# Unfortuately, we again see that the model is trying to play safe by predicting 0-1 runs for almost the entire set of observations. Let us attempt to try a different algorithm such as neural network"
   ]
  },
  {
   "cell_type": "code",
   "execution_count": 784,
   "id": "e6fe1313-2888-4208-a77a-3443e5a8d080",
   "metadata": {},
   "outputs": [],
   "source": [
    "import tensorflow as tf\n",
    "from tensorflow import keras\n",
    "from tensorflow.keras import layers"
   ]
  },
  {
   "cell_type": "code",
   "execution_count": 785,
   "id": "0c5d2e71-5b5c-48ec-8675-6df96c145227",
   "metadata": {},
   "outputs": [
    {
     "name": "stderr",
     "output_type": "stream",
     "text": [
      "C:\\Users\\Vijay\\anaconda3\\Lib\\site-packages\\keras\\src\\layers\\core\\dense.py:87: UserWarning: Do not pass an `input_shape`/`input_dim` argument to a layer. When using Sequential models, prefer using an `Input(shape)` object as the first layer in the model instead.\n",
      "  super().__init__(activity_regularizer=activity_regularizer, **kwargs)\n"
     ]
    },
    {
     "data": {
      "text/html": [
       "<pre style=\"white-space:pre;overflow-x:auto;line-height:normal;font-family:Menlo,'DejaVu Sans Mono',consolas,'Courier New',monospace\"><span style=\"font-weight: bold\">Model: \"sequential\"</span>\n",
       "</pre>\n"
      ],
      "text/plain": [
       "\u001b[1mModel: \"sequential\"\u001b[0m\n"
      ]
     },
     "metadata": {},
     "output_type": "display_data"
    },
    {
     "data": {
      "text/html": [
       "<pre style=\"white-space:pre;overflow-x:auto;line-height:normal;font-family:Menlo,'DejaVu Sans Mono',consolas,'Courier New',monospace\">┏━━━━━━━━━━━━━━━━━━━━━━━━━━━━━━━━━━━━━━┳━━━━━━━━━━━━━━━━━━━━━━━━━━━━━┳━━━━━━━━━━━━━━━━━┓\n",
       "┃<span style=\"font-weight: bold\"> Layer (type)                         </span>┃<span style=\"font-weight: bold\"> Output Shape                </span>┃<span style=\"font-weight: bold\">         Param # </span>┃\n",
       "┡━━━━━━━━━━━━━━━━━━━━━━━━━━━━━━━━━━━━━━╇━━━━━━━━━━━━━━━━━━━━━━━━━━━━━╇━━━━━━━━━━━━━━━━━┩\n",
       "│ dense (<span style=\"color: #0087ff; text-decoration-color: #0087ff\">Dense</span>)                        │ (<span style=\"color: #00d7ff; text-decoration-color: #00d7ff\">None</span>, <span style=\"color: #00af00; text-decoration-color: #00af00\">128</span>)                 │          <span style=\"color: #00af00; text-decoration-color: #00af00\">16,000</span> │\n",
       "├──────────────────────────────────────┼─────────────────────────────┼─────────────────┤\n",
       "│ dense_1 (<span style=\"color: #0087ff; text-decoration-color: #0087ff\">Dense</span>)                      │ (<span style=\"color: #00d7ff; text-decoration-color: #00d7ff\">None</span>, <span style=\"color: #00af00; text-decoration-color: #00af00\">64</span>)                  │           <span style=\"color: #00af00; text-decoration-color: #00af00\">8,256</span> │\n",
       "├──────────────────────────────────────┼─────────────────────────────┼─────────────────┤\n",
       "│ dense_2 (<span style=\"color: #0087ff; text-decoration-color: #0087ff\">Dense</span>)                      │ (<span style=\"color: #00d7ff; text-decoration-color: #00d7ff\">None</span>, <span style=\"color: #00af00; text-decoration-color: #00af00\">32</span>)                  │           <span style=\"color: #00af00; text-decoration-color: #00af00\">2,080</span> │\n",
       "├──────────────────────────────────────┼─────────────────────────────┼─────────────────┤\n",
       "│ dense_3 (<span style=\"color: #0087ff; text-decoration-color: #0087ff\">Dense</span>)                      │ (<span style=\"color: #00d7ff; text-decoration-color: #00d7ff\">None</span>, <span style=\"color: #00af00; text-decoration-color: #00af00\">7</span>)                   │             <span style=\"color: #00af00; text-decoration-color: #00af00\">231</span> │\n",
       "└──────────────────────────────────────┴─────────────────────────────┴─────────────────┘\n",
       "</pre>\n"
      ],
      "text/plain": [
       "┏━━━━━━━━━━━━━━━━━━━━━━━━━━━━━━━━━━━━━━┳━━━━━━━━━━━━━━━━━━━━━━━━━━━━━┳━━━━━━━━━━━━━━━━━┓\n",
       "┃\u001b[1m \u001b[0m\u001b[1mLayer (type)                        \u001b[0m\u001b[1m \u001b[0m┃\u001b[1m \u001b[0m\u001b[1mOutput Shape               \u001b[0m\u001b[1m \u001b[0m┃\u001b[1m \u001b[0m\u001b[1m        Param #\u001b[0m\u001b[1m \u001b[0m┃\n",
       "┡━━━━━━━━━━━━━━━━━━━━━━━━━━━━━━━━━━━━━━╇━━━━━━━━━━━━━━━━━━━━━━━━━━━━━╇━━━━━━━━━━━━━━━━━┩\n",
       "│ dense (\u001b[38;5;33mDense\u001b[0m)                        │ (\u001b[38;5;45mNone\u001b[0m, \u001b[38;5;34m128\u001b[0m)                 │          \u001b[38;5;34m16,000\u001b[0m │\n",
       "├──────────────────────────────────────┼─────────────────────────────┼─────────────────┤\n",
       "│ dense_1 (\u001b[38;5;33mDense\u001b[0m)                      │ (\u001b[38;5;45mNone\u001b[0m, \u001b[38;5;34m64\u001b[0m)                  │           \u001b[38;5;34m8,256\u001b[0m │\n",
       "├──────────────────────────────────────┼─────────────────────────────┼─────────────────┤\n",
       "│ dense_2 (\u001b[38;5;33mDense\u001b[0m)                      │ (\u001b[38;5;45mNone\u001b[0m, \u001b[38;5;34m32\u001b[0m)                  │           \u001b[38;5;34m2,080\u001b[0m │\n",
       "├──────────────────────────────────────┼─────────────────────────────┼─────────────────┤\n",
       "│ dense_3 (\u001b[38;5;33mDense\u001b[0m)                      │ (\u001b[38;5;45mNone\u001b[0m, \u001b[38;5;34m7\u001b[0m)                   │             \u001b[38;5;34m231\u001b[0m │\n",
       "└──────────────────────────────────────┴─────────────────────────────┴─────────────────┘\n"
      ]
     },
     "metadata": {},
     "output_type": "display_data"
    },
    {
     "data": {
      "text/html": [
       "<pre style=\"white-space:pre;overflow-x:auto;line-height:normal;font-family:Menlo,'DejaVu Sans Mono',consolas,'Courier New',monospace\"><span style=\"font-weight: bold\"> Total params: </span><span style=\"color: #00af00; text-decoration-color: #00af00\">26,567</span> (103.78 KB)\n",
       "</pre>\n"
      ],
      "text/plain": [
       "\u001b[1m Total params: \u001b[0m\u001b[38;5;34m26,567\u001b[0m (103.78 KB)\n"
      ]
     },
     "metadata": {},
     "output_type": "display_data"
    },
    {
     "data": {
      "text/html": [
       "<pre style=\"white-space:pre;overflow-x:auto;line-height:normal;font-family:Menlo,'DejaVu Sans Mono',consolas,'Courier New',monospace\"><span style=\"font-weight: bold\"> Trainable params: </span><span style=\"color: #00af00; text-decoration-color: #00af00\">26,567</span> (103.78 KB)\n",
       "</pre>\n"
      ],
      "text/plain": [
       "\u001b[1m Trainable params: \u001b[0m\u001b[38;5;34m26,567\u001b[0m (103.78 KB)\n"
      ]
     },
     "metadata": {},
     "output_type": "display_data"
    },
    {
     "data": {
      "text/html": [
       "<pre style=\"white-space:pre;overflow-x:auto;line-height:normal;font-family:Menlo,'DejaVu Sans Mono',consolas,'Courier New',monospace\"><span style=\"font-weight: bold\"> Non-trainable params: </span><span style=\"color: #00af00; text-decoration-color: #00af00\">0</span> (0.00 B)\n",
       "</pre>\n"
      ],
      "text/plain": [
       "\u001b[1m Non-trainable params: \u001b[0m\u001b[38;5;34m0\u001b[0m (0.00 B)\n"
      ]
     },
     "metadata": {},
     "output_type": "display_data"
    }
   ],
   "source": [
    "model = keras.Sequential([\n",
    "    layers.Dense(128, activation='relu', input_shape=(X_resampled.shape[1],)),  # Input layer\n",
    "    layers.Dense(64, activation='relu'),  # Hidden layer\n",
    "    layers.Dense(32, activation='relu'),  # Hidden layer\n",
    "    layers.Dense(7, activation='softmax')  # Output layer (7 classes)\n",
    "])\n",
    "\n",
    "# Compile the model\n",
    "model.compile(\n",
    "    optimizer=keras.optimizers.Adam(learning_rate=0.001),\n",
    "    loss='sparse_categorical_crossentropy',  # Use sparse_categorical_crossentropy if y is not one-hot encoded\n",
    "    metrics=['accuracy']\n",
    ")\n",
    "\n",
    "# Model summary\n",
    "model.summary()"
   ]
  },
  {
   "cell_type": "code",
   "execution_count": 789,
   "id": "616edbe6-9bc4-4d02-8daf-1227b5e7f9e4",
   "metadata": {},
   "outputs": [
    {
     "name": "stdout",
     "output_type": "stream",
     "text": [
      "Epoch 1/30\n",
      "\u001b[1m3285/3285\u001b[0m \u001b[32m━━━━━━━━━━━━━━━━━━━━\u001b[0m\u001b[37m\u001b[0m \u001b[1m11s\u001b[0m 3ms/step - accuracy: 0.3257 - loss: 1.5105 - val_accuracy: 0.3945 - val_loss: 1.4066\n",
      "Epoch 2/30\n",
      "\u001b[1m3285/3285\u001b[0m \u001b[32m━━━━━━━━━━━━━━━━━━━━\u001b[0m\u001b[37m\u001b[0m \u001b[1m12s\u001b[0m 4ms/step - accuracy: 0.3298 - loss: 1.5014 - val_accuracy: 0.4132 - val_loss: 1.3989\n",
      "Epoch 3/30\n",
      "\u001b[1m3285/3285\u001b[0m \u001b[32m━━━━━━━━━━━━━━━━━━━━\u001b[0m\u001b[37m\u001b[0m \u001b[1m13s\u001b[0m 4ms/step - accuracy: 0.3306 - loss: 1.5017 - val_accuracy: 0.4047 - val_loss: 1.4083\n",
      "Epoch 4/30\n",
      "\u001b[1m3285/3285\u001b[0m \u001b[32m━━━━━━━━━━━━━━━━━━━━\u001b[0m\u001b[37m\u001b[0m \u001b[1m11s\u001b[0m 3ms/step - accuracy: 0.3330 - loss: 1.5002 - val_accuracy: 0.4043 - val_loss: 1.3922\n",
      "Epoch 5/30\n",
      "\u001b[1m3285/3285\u001b[0m \u001b[32m━━━━━━━━━━━━━━━━━━━━\u001b[0m\u001b[37m\u001b[0m \u001b[1m13s\u001b[0m 4ms/step - accuracy: 0.3337 - loss: 1.4991 - val_accuracy: 0.4166 - val_loss: 1.3964\n",
      "Epoch 6/30\n",
      "\u001b[1m3285/3285\u001b[0m \u001b[32m━━━━━━━━━━━━━━━━━━━━\u001b[0m\u001b[37m\u001b[0m \u001b[1m11s\u001b[0m 3ms/step - accuracy: 0.3359 - loss: 1.4987 - val_accuracy: 0.3975 - val_loss: 1.3969\n",
      "Epoch 7/30\n",
      "\u001b[1m3285/3285\u001b[0m \u001b[32m━━━━━━━━━━━━━━━━━━━━\u001b[0m\u001b[37m\u001b[0m \u001b[1m12s\u001b[0m 4ms/step - accuracy: 0.3378 - loss: 1.4959 - val_accuracy: 0.3993 - val_loss: 1.4043\n",
      "Epoch 8/30\n",
      "\u001b[1m3285/3285\u001b[0m \u001b[32m━━━━━━━━━━━━━━━━━━━━\u001b[0m\u001b[37m\u001b[0m \u001b[1m11s\u001b[0m 3ms/step - accuracy: 0.3388 - loss: 1.4953 - val_accuracy: 0.3804 - val_loss: 1.4177\n",
      "Epoch 9/30\n",
      "\u001b[1m3285/3285\u001b[0m \u001b[32m━━━━━━━━━━━━━━━━━━━━\u001b[0m\u001b[37m\u001b[0m \u001b[1m9s\u001b[0m 3ms/step - accuracy: 0.3381 - loss: 1.4955 - val_accuracy: 0.3805 - val_loss: 1.4040\n",
      "Epoch 10/30\n",
      "\u001b[1m3285/3285\u001b[0m \u001b[32m━━━━━━━━━━━━━━━━━━━━\u001b[0m\u001b[37m\u001b[0m \u001b[1m12s\u001b[0m 3ms/step - accuracy: 0.3387 - loss: 1.4957 - val_accuracy: 0.4177 - val_loss: 1.3890\n",
      "Epoch 11/30\n",
      "\u001b[1m3285/3285\u001b[0m \u001b[32m━━━━━━━━━━━━━━━━━━━━\u001b[0m\u001b[37m\u001b[0m \u001b[1m11s\u001b[0m 3ms/step - accuracy: 0.3392 - loss: 1.4939 - val_accuracy: 0.4008 - val_loss: 1.3979\n",
      "Epoch 12/30\n",
      "\u001b[1m3285/3285\u001b[0m \u001b[32m━━━━━━━━━━━━━━━━━━━━\u001b[0m\u001b[37m\u001b[0m \u001b[1m11s\u001b[0m 3ms/step - accuracy: 0.3416 - loss: 1.4937 - val_accuracy: 0.4091 - val_loss: 1.3904\n",
      "Epoch 13/30\n",
      "\u001b[1m3285/3285\u001b[0m \u001b[32m━━━━━━━━━━━━━━━━━━━━\u001b[0m\u001b[37m\u001b[0m \u001b[1m13s\u001b[0m 4ms/step - accuracy: 0.3373 - loss: 1.4956 - val_accuracy: 0.4134 - val_loss: 1.3952\n",
      "Epoch 14/30\n",
      "\u001b[1m3285/3285\u001b[0m \u001b[32m━━━━━━━━━━━━━━━━━━━━\u001b[0m\u001b[37m\u001b[0m \u001b[1m11s\u001b[0m 3ms/step - accuracy: 0.3409 - loss: 1.4956 - val_accuracy: 0.3902 - val_loss: 1.4081\n",
      "Epoch 15/30\n",
      "\u001b[1m3285/3285\u001b[0m \u001b[32m━━━━━━━━━━━━━━━━━━━━\u001b[0m\u001b[37m\u001b[0m \u001b[1m12s\u001b[0m 4ms/step - accuracy: 0.3429 - loss: 1.4935 - val_accuracy: 0.3874 - val_loss: 1.4100\n",
      "Epoch 16/30\n",
      "\u001b[1m3285/3285\u001b[0m \u001b[32m━━━━━━━━━━━━━━━━━━━━\u001b[0m\u001b[37m\u001b[0m \u001b[1m12s\u001b[0m 4ms/step - accuracy: 0.3414 - loss: 1.4927 - val_accuracy: 0.4165 - val_loss: 1.3805\n",
      "Epoch 17/30\n",
      "\u001b[1m3285/3285\u001b[0m \u001b[32m━━━━━━━━━━━━━━━━━━━━\u001b[0m\u001b[37m\u001b[0m \u001b[1m13s\u001b[0m 4ms/step - accuracy: 0.3418 - loss: 1.4939 - val_accuracy: 0.3996 - val_loss: 1.3907\n",
      "Epoch 18/30\n",
      "\u001b[1m3285/3285\u001b[0m \u001b[32m━━━━━━━━━━━━━━━━━━━━\u001b[0m\u001b[37m\u001b[0m \u001b[1m13s\u001b[0m 4ms/step - accuracy: 0.3457 - loss: 1.4893 - val_accuracy: 0.3898 - val_loss: 1.4064\n",
      "Epoch 19/30\n",
      "\u001b[1m3285/3285\u001b[0m \u001b[32m━━━━━━━━━━━━━━━━━━━━\u001b[0m\u001b[37m\u001b[0m \u001b[1m12s\u001b[0m 4ms/step - accuracy: 0.3430 - loss: 1.4891 - val_accuracy: 0.4021 - val_loss: 1.4006\n",
      "Epoch 20/30\n",
      "\u001b[1m3285/3285\u001b[0m \u001b[32m━━━━━━━━━━━━━━━━━━━━\u001b[0m\u001b[37m\u001b[0m \u001b[1m12s\u001b[0m 4ms/step - accuracy: 0.3446 - loss: 1.4922 - val_accuracy: 0.3859 - val_loss: 1.3984\n",
      "Epoch 21/30\n",
      "\u001b[1m3285/3285\u001b[0m \u001b[32m━━━━━━━━━━━━━━━━━━━━\u001b[0m\u001b[37m\u001b[0m \u001b[1m12s\u001b[0m 4ms/step - accuracy: 0.3463 - loss: 1.4893 - val_accuracy: 0.3999 - val_loss: 1.3906\n",
      "Epoch 22/30\n",
      "\u001b[1m3285/3285\u001b[0m \u001b[32m━━━━━━━━━━━━━━━━━━━━\u001b[0m\u001b[37m\u001b[0m \u001b[1m12s\u001b[0m 4ms/step - accuracy: 0.3474 - loss: 1.4884 - val_accuracy: 0.4025 - val_loss: 1.3904\n",
      "Epoch 23/30\n",
      "\u001b[1m3285/3285\u001b[0m \u001b[32m━━━━━━━━━━━━━━━━━━━━\u001b[0m\u001b[37m\u001b[0m \u001b[1m12s\u001b[0m 4ms/step - accuracy: 0.3453 - loss: 1.4893 - val_accuracy: 0.3874 - val_loss: 1.4013\n",
      "Epoch 24/30\n",
      "\u001b[1m3285/3285\u001b[0m \u001b[32m━━━━━━━━━━━━━━━━━━━━\u001b[0m\u001b[37m\u001b[0m \u001b[1m12s\u001b[0m 4ms/step - accuracy: 0.3458 - loss: 1.4885 - val_accuracy: 0.3876 - val_loss: 1.4040\n",
      "Epoch 25/30\n",
      "\u001b[1m3285/3285\u001b[0m \u001b[32m━━━━━━━━━━━━━━━━━━━━\u001b[0m\u001b[37m\u001b[0m \u001b[1m12s\u001b[0m 4ms/step - accuracy: 0.3485 - loss: 1.4892 - val_accuracy: 0.4069 - val_loss: 1.3789\n",
      "Epoch 26/30\n",
      "\u001b[1m3285/3285\u001b[0m \u001b[32m━━━━━━━━━━━━━━━━━━━━\u001b[0m\u001b[37m\u001b[0m \u001b[1m12s\u001b[0m 4ms/step - accuracy: 0.3492 - loss: 1.4841 - val_accuracy: 0.4032 - val_loss: 1.3804\n",
      "Epoch 27/30\n",
      "\u001b[1m3285/3285\u001b[0m \u001b[32m━━━━━━━━━━━━━━━━━━━━\u001b[0m\u001b[37m\u001b[0m \u001b[1m12s\u001b[0m 4ms/step - accuracy: 0.3506 - loss: 1.4842 - val_accuracy: 0.3968 - val_loss: 1.3868\n",
      "Epoch 28/30\n",
      "\u001b[1m3285/3285\u001b[0m \u001b[32m━━━━━━━━━━━━━━━━━━━━\u001b[0m\u001b[37m\u001b[0m \u001b[1m11s\u001b[0m 3ms/step - accuracy: 0.3525 - loss: 1.4835 - val_accuracy: 0.4036 - val_loss: 1.3850\n",
      "Epoch 29/30\n",
      "\u001b[1m3285/3285\u001b[0m \u001b[32m━━━━━━━━━━━━━━━━━━━━\u001b[0m\u001b[37m\u001b[0m \u001b[1m12s\u001b[0m 4ms/step - accuracy: 0.3550 - loss: 1.4825 - val_accuracy: 0.3962 - val_loss: 1.3828\n",
      "Epoch 30/30\n",
      "\u001b[1m3285/3285\u001b[0m \u001b[32m━━━━━━━━━━━━━━━━━━━━\u001b[0m\u001b[37m\u001b[0m \u001b[1m9s\u001b[0m 3ms/step - accuracy: 0.3525 - loss: 1.4803 - val_accuracy: 0.3833 - val_loss: 1.3975\n"
     ]
    }
   ],
   "source": [
    "history = model.fit(\n",
    "    X_resampled, y_resampled,\n",
    "    epochs=30,  # Number of epochs (adjust as needed)\n",
    "    batch_size=64,  # Adjust batch size\n",
    "    validation_data=(X_test, y_test),  # Use 20% of data for validation\n",
    "    verbose=1\n",
    ")"
   ]
  },
  {
   "cell_type": "markdown",
   "id": "e657049f-432d-4ab1-9f75-a9403caa963c",
   "metadata": {},
   "source": [
    "# The NN model fails to learn effectively. So finally, lets stick to the XGBoost classification model with weighted samples. We can also go for the model with oversampled data, but the improvement is only marginal. So, going without it may make more sense"
   ]
  },
  {
   "cell_type": "markdown",
   "id": "d6d18b30-e5ac-4ff3-9e42-3cdc705a91b8",
   "metadata": {},
   "source": [
    "# The next notebook contains modelling as well as post-model analysis for better insights"
   ]
  },
  {
   "cell_type": "code",
   "execution_count": null,
   "id": "ccb1e49b-0646-436e-92a7-78374f842f27",
   "metadata": {},
   "outputs": [],
   "source": []
  }
 ],
 "metadata": {
  "kernelspec": {
   "display_name": "Python 3 (ipykernel)",
   "language": "python",
   "name": "python3"
  },
  "language_info": {
   "codemirror_mode": {
    "name": "ipython",
    "version": 3
   },
   "file_extension": ".py",
   "mimetype": "text/x-python",
   "name": "python",
   "nbconvert_exporter": "python",
   "pygments_lexer": "ipython3",
   "version": "3.11.7"
  }
 },
 "nbformat": 4,
 "nbformat_minor": 5
}
